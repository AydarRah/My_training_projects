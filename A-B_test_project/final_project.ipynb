{
 "cells": [
  {
   "cell_type": "markdown",
   "metadata": {
    "pycharm": {
     "name": "#%% md\n"
    }
   },
   "source": [
    "# Проект: вариант 2\n",
    "## Задание 1. A/B–тестирование\n",
    "### 1.1 Условие\n",
    "\n",
    "Одной из основных задач аналитика в нашей команде является корректное проведение экспериментов. Для этого мы применяем метод A/B–тестирования. В ходе тестирования одной гипотезы целевой группе была предложена новая механика оплаты услуг на сайте, у контрольной группы оставалась базовая механика. В качестве задания Вам необходимо проанализировать итоги эксперимента и сделать вывод, стоит ли запускать новую механику оплаты на всех пользователей.\n",
    "\n",
    "### 1.2 Входные данные\n",
    "\n",
    "В качестве входных данных Вы имеете 4 csv-файла:\n",
    "\n",
    "groups.csv - файл с информацией о принадлежности пользователя к контрольной или экспериментальной группе (А – контроль, B – целевая группа)\n",
    "groups_add.csv - дополнительный файл с пользователями, который вам прислали спустя 2 дня после передачи данных\n",
    "active_studs.csv - файл с информацией о пользователях, которые зашли на платформу в дни проведения эксперимента.\n",
    "checks.csv - файл с информацией об оплатах пользователей в дни проведения эксперимента.\n",
    "### 1.3 Вопросы\n",
    "\n",
    "Предлагаем Вам ответить на следующие вопросы:\n",
    "\n",
    "На какие метрики Вы смотрите в ходе анализа и почему?\n",
    "Имеются ли различия в показателях и с чем они могут быть связаны?\n",
    "Являются ли эти различия статистически значимыми?\n",
    "Стоит ли запускать новую механику на всех пользователей?\n",
    "Данный список вопросов не является обязательным, и Вы можете при своём ответе опираться на собственный план.\n",
    "\n",
    "### 1.4 Требования к ответу\n",
    "\n",
    "При выполнении тестового задания необходимо использовать язык программирования Python.\n",
    "В файле обязательно должны быть комментарии к тем действиям, которые Вы выполняете с данными.\n",
    "Файл должен представлять собой законченный отчёт с выводами, сделанными в ходе исследования."
   ]
  },
  {
   "cell_type": "code",
   "execution_count": 1,
   "metadata": {
    "pycharm": {
     "name": "#%%\n"
    }
   },
   "outputs": [],
   "source": [
    "import pandas as pd\n",
    "import seaborn as sns\n",
    "import matplotlib.pyplot as plt\n",
    "from scipy import stats\n",
    "import pylab\n",
    "from tqdm.auto import tqdm\n",
    "from scipy.stats import norm\n",
    "import numpy as np"
   ]
  },
  {
   "cell_type": "markdown",
   "metadata": {
    "pycharm": {
     "name": "#%% md\n"
    }
   },
   "source": [
    "## Обработка и проверка данных"
   ]
  },
  {
   "cell_type": "markdown",
   "metadata": {
    "pycharm": {
     "name": "#%% md\n"
    }
   },
   "source": [
    "### *Groups - данные о принадлежности пользователей к контрольной (А) и целевой (B) группам*"
   ]
  },
  {
   "cell_type": "code",
   "execution_count": 2,
   "metadata": {
    "pycharm": {
     "name": "#%%\n"
    }
   },
   "outputs": [],
   "source": [
    "groups = pd.read_csv('https://getfile.dokpub.com/yandex/get/https://disk.yandex.ru/d/58Us0DWOzuWAjg', sep=';')"
   ]
  },
  {
   "cell_type": "code",
   "execution_count": 3,
   "metadata": {
    "pycharm": {
     "name": "#%%\n"
    }
   },
   "outputs": [
    {
     "data": {
      "text/plain": "     id grp\n0  1489   B\n1  1627   A\n2  1768   B\n3  1783   B\n4  1794   A",
      "text/html": "<div>\n<style scoped>\n    .dataframe tbody tr th:only-of-type {\n        vertical-align: middle;\n    }\n\n    .dataframe tbody tr th {\n        vertical-align: top;\n    }\n\n    .dataframe thead th {\n        text-align: right;\n    }\n</style>\n<table border=\"1\" class=\"dataframe\">\n  <thead>\n    <tr style=\"text-align: right;\">\n      <th></th>\n      <th>id</th>\n      <th>grp</th>\n    </tr>\n  </thead>\n  <tbody>\n    <tr>\n      <th>0</th>\n      <td>1489</td>\n      <td>B</td>\n    </tr>\n    <tr>\n      <th>1</th>\n      <td>1627</td>\n      <td>A</td>\n    </tr>\n    <tr>\n      <th>2</th>\n      <td>1768</td>\n      <td>B</td>\n    </tr>\n    <tr>\n      <th>3</th>\n      <td>1783</td>\n      <td>B</td>\n    </tr>\n    <tr>\n      <th>4</th>\n      <td>1794</td>\n      <td>A</td>\n    </tr>\n  </tbody>\n</table>\n</div>"
     },
     "execution_count": 3,
     "metadata": {},
     "output_type": "execute_result"
    }
   ],
   "source": [
    "groups.head()  # посмотрим данные"
   ]
  },
  {
   "cell_type": "code",
   "execution_count": 4,
   "metadata": {
    "pycharm": {
     "name": "#%%\n"
    }
   },
   "outputs": [
    {
     "data": {
      "text/plain": "id     0\ngrp    0\ndtype: int64"
     },
     "execution_count": 4,
     "metadata": {},
     "output_type": "execute_result"
    }
   ],
   "source": [
    "groups.isna().sum()  # проверим есть ли пропущенные значения"
   ]
  },
  {
   "cell_type": "markdown",
   "metadata": {
    "pycharm": {
     "name": "#%% md\n"
    }
   },
   "source": [
    "пропущенных значений нет"
   ]
  },
  {
   "cell_type": "code",
   "execution_count": 5,
   "metadata": {
    "pycharm": {
     "name": "#%%\n"
    }
   },
   "outputs": [
    {
     "data": {
      "text/plain": "True"
     },
     "execution_count": 5,
     "metadata": {},
     "output_type": "execute_result"
    }
   ],
   "source": [
    "groups.id.nunique() == groups.shape[0]  # проверим уникальны ли id в таблице"
   ]
  },
  {
   "cell_type": "markdown",
   "metadata": {
    "pycharm": {
     "name": "#%% md\n"
    }
   },
   "source": [
    "повторяющихся значений в таблице нет, можно также сделать вывод, что пользователи были разделены корректно - каждый пользоватль принадлежит только одной группе"
   ]
  },
  {
   "cell_type": "code",
   "execution_count": 6,
   "metadata": {
    "pycharm": {
     "name": "#%%\n"
    }
   },
   "outputs": [
    {
     "data": {
      "text/plain": "grp\nA    14671\nB    59813\nName: id, dtype: int64"
     },
     "execution_count": 6,
     "metadata": {},
     "output_type": "execute_result"
    }
   ],
   "source": [
    "groups.groupby('grp').id.count()  # количество пользователей в контрольной (А) и целевой (B) группах"
   ]
  },
  {
   "cell_type": "markdown",
   "metadata": {
    "pycharm": {
     "name": "#%% md\n"
    }
   },
   "source": [
    "отметим что в целевой группе \"B\" гораздо больше пользователей чем в контрольной \"А\""
   ]
  },
  {
   "cell_type": "markdown",
   "metadata": {
    "pycharm": {
     "name": "#%% md\n"
    }
   },
   "source": [
    "### *Groups_add - дополнительные данные о принадлежности пользователей*"
   ]
  },
  {
   "cell_type": "code",
   "execution_count": 7,
   "metadata": {
    "pycharm": {
     "name": "#%%\n"
    }
   },
   "outputs": [],
   "source": [
    "group_add = pd.read_csv('https://getfile.dokpub.com/yandex/get/https://disk.yandex.ru/d/3aARY-P9pfaksg', sep=',')"
   ]
  },
  {
   "cell_type": "code",
   "execution_count": 8,
   "metadata": {
    "pycharm": {
     "name": "#%%\n"
    }
   },
   "outputs": [
    {
     "data": {
      "text/plain": "        id grp\n0  5694584   B\n1  5694830   B\n2  5695057   B\n3  5698872   B\n4  5699067   B",
      "text/html": "<div>\n<style scoped>\n    .dataframe tbody tr th:only-of-type {\n        vertical-align: middle;\n    }\n\n    .dataframe tbody tr th {\n        vertical-align: top;\n    }\n\n    .dataframe thead th {\n        text-align: right;\n    }\n</style>\n<table border=\"1\" class=\"dataframe\">\n  <thead>\n    <tr style=\"text-align: right;\">\n      <th></th>\n      <th>id</th>\n      <th>grp</th>\n    </tr>\n  </thead>\n  <tbody>\n    <tr>\n      <th>0</th>\n      <td>5694584</td>\n      <td>B</td>\n    </tr>\n    <tr>\n      <th>1</th>\n      <td>5694830</td>\n      <td>B</td>\n    </tr>\n    <tr>\n      <th>2</th>\n      <td>5695057</td>\n      <td>B</td>\n    </tr>\n    <tr>\n      <th>3</th>\n      <td>5698872</td>\n      <td>B</td>\n    </tr>\n    <tr>\n      <th>4</th>\n      <td>5699067</td>\n      <td>B</td>\n    </tr>\n  </tbody>\n</table>\n</div>"
     },
     "execution_count": 8,
     "metadata": {},
     "output_type": "execute_result"
    }
   ],
   "source": [
    "group_add.head()  # поглядим на данные вцелом"
   ]
  },
  {
   "cell_type": "code",
   "execution_count": 9,
   "metadata": {
    "pycharm": {
     "name": "#%%\n"
    }
   },
   "outputs": [
    {
     "data": {
      "text/plain": "id     0\ngrp    0\ndtype: int64"
     },
     "execution_count": 9,
     "metadata": {},
     "output_type": "execute_result"
    }
   ],
   "source": [
    "group_add.isna().sum()  # проверим есть ли пропущенные значения"
   ]
  },
  {
   "cell_type": "markdown",
   "metadata": {
    "pycharm": {
     "name": "#%% md\n"
    }
   },
   "source": [
    "пропущенных значений нет"
   ]
  },
  {
   "cell_type": "code",
   "execution_count": 10,
   "metadata": {
    "pycharm": {
     "name": "#%%\n"
    }
   },
   "outputs": [
    {
     "data": {
      "text/plain": "True"
     },
     "execution_count": 10,
     "metadata": {},
     "output_type": "execute_result"
    }
   ],
   "source": [
    "group_add.id.nunique() == group_add.shape[0]  # проверим уникальны ли id в таблице"
   ]
  },
  {
   "cell_type": "markdown",
   "metadata": {
    "pycharm": {
     "name": "#%% md\n"
    }
   },
   "source": [
    "повторяющихся значений в таблице нет, можно также сделать вывод, что пользователи были разделены верно - каждый пользоватль принадлежит только одной группе"
   ]
  },
  {
   "cell_type": "code",
   "execution_count": 11,
   "metadata": {
    "pycharm": {
     "name": "#%%\n"
    }
   },
   "outputs": [
    {
     "data": {
      "text/plain": "grp\nA    22\nB    70\nName: id, dtype: int64"
     },
     "execution_count": 11,
     "metadata": {},
     "output_type": "execute_result"
    }
   ],
   "source": [
    "group_add.groupby('grp').id.count()  # количество пользователей в контрольной и целевой группах в дополнительных данных"
   ]
  },
  {
   "cell_type": "markdown",
   "metadata": {
    "pycharm": {
     "name": "#%% md\n"
    }
   },
   "source": [
    "опять же отметим что в целевой \"B\" группе пользователей больше и в дополнительных данных"
   ]
  },
  {
   "cell_type": "markdown",
   "metadata": {
    "pycharm": {
     "name": "#%% md\n"
    }
   },
   "source": [
    "### *checks - данные об оплатах пользователей в дни проведения эксперемента*"
   ]
  },
  {
   "cell_type": "code",
   "execution_count": 12,
   "metadata": {
    "pycharm": {
     "name": "#%%\n"
    }
   },
   "outputs": [],
   "source": [
    "checks = pd.read_csv('https://getfile.dokpub.com/yandex/get/https://disk.yandex.ru/d/84hTmELphW2sqQ', sep=';')"
   ]
  },
  {
   "cell_type": "code",
   "execution_count": 13,
   "metadata": {
    "pycharm": {
     "name": "#%%\n"
    }
   },
   "outputs": [
    {
     "data": {
      "text/plain": "   student_id    rev\n0        1627  990.0\n1        3185  690.0\n2       25973  690.0\n3       26280  690.0\n4      100300  990.0",
      "text/html": "<div>\n<style scoped>\n    .dataframe tbody tr th:only-of-type {\n        vertical-align: middle;\n    }\n\n    .dataframe tbody tr th {\n        vertical-align: top;\n    }\n\n    .dataframe thead th {\n        text-align: right;\n    }\n</style>\n<table border=\"1\" class=\"dataframe\">\n  <thead>\n    <tr style=\"text-align: right;\">\n      <th></th>\n      <th>student_id</th>\n      <th>rev</th>\n    </tr>\n  </thead>\n  <tbody>\n    <tr>\n      <th>0</th>\n      <td>1627</td>\n      <td>990.0</td>\n    </tr>\n    <tr>\n      <th>1</th>\n      <td>3185</td>\n      <td>690.0</td>\n    </tr>\n    <tr>\n      <th>2</th>\n      <td>25973</td>\n      <td>690.0</td>\n    </tr>\n    <tr>\n      <th>3</th>\n      <td>26280</td>\n      <td>690.0</td>\n    </tr>\n    <tr>\n      <th>4</th>\n      <td>100300</td>\n      <td>990.0</td>\n    </tr>\n  </tbody>\n</table>\n</div>"
     },
     "execution_count": 13,
     "metadata": {},
     "output_type": "execute_result"
    }
   ],
   "source": [
    "checks.head()  # глянем"
   ]
  },
  {
   "cell_type": "code",
   "execution_count": 14,
   "metadata": {
    "pycharm": {
     "name": "#%%\n"
    }
   },
   "outputs": [
    {
     "data": {
      "text/plain": "student_id    0\nrev           0\ndtype: int64"
     },
     "execution_count": 14,
     "metadata": {},
     "output_type": "execute_result"
    }
   ],
   "source": [
    "checks.isna().sum()  # проверим есть ли пропущенные значения"
   ]
  },
  {
   "cell_type": "markdown",
   "metadata": {
    "pycharm": {
     "name": "#%% md\n"
    }
   },
   "source": [
    "пропущенных значений нет"
   ]
  },
  {
   "cell_type": "code",
   "execution_count": 15,
   "metadata": {
    "pycharm": {
     "name": "#%%\n"
    }
   },
   "outputs": [
    {
     "data": {
      "text/plain": "True"
     },
     "execution_count": 15,
     "metadata": {},
     "output_type": "execute_result"
    }
   ],
   "source": [
    "checks.student_id.nunique() == checks.shape[0]  # проверим уникальность student_id"
   ]
  },
  {
   "cell_type": "markdown",
   "metadata": {
    "pycharm": {
     "name": "#%% md\n"
    }
   },
   "source": [
    "в student_id нет повторяющихся значений следовательно на каждого пользоватля в таблице приходится один чек (или сумма чеков)"
   ]
  },
  {
   "cell_type": "markdown",
   "metadata": {
    "pycharm": {
     "name": "#%% md\n"
    }
   },
   "source": [
    "### *active_studs - данные о пользователях зашедших на платформу в дни эксперимента*"
   ]
  },
  {
   "cell_type": "code",
   "execution_count": 16,
   "metadata": {
    "pycharm": {
     "name": "#%%\n"
    }
   },
   "outputs": [],
   "source": [
    "active_studs = pd.read_csv('https://getfile.dokpub.com/yandex/get/https://disk.yandex.ru/d/prbgU-rZpiXVYg', sep=';')"
   ]
  },
  {
   "cell_type": "code",
   "execution_count": 17,
   "metadata": {
    "pycharm": {
     "name": "#%%\n"
    }
   },
   "outputs": [
    {
     "data": {
      "text/plain": "   student_id\n0      581585\n1     5723133\n2     3276743\n3     4238589\n4     4475369",
      "text/html": "<div>\n<style scoped>\n    .dataframe tbody tr th:only-of-type {\n        vertical-align: middle;\n    }\n\n    .dataframe tbody tr th {\n        vertical-align: top;\n    }\n\n    .dataframe thead th {\n        text-align: right;\n    }\n</style>\n<table border=\"1\" class=\"dataframe\">\n  <thead>\n    <tr style=\"text-align: right;\">\n      <th></th>\n      <th>student_id</th>\n    </tr>\n  </thead>\n  <tbody>\n    <tr>\n      <th>0</th>\n      <td>581585</td>\n    </tr>\n    <tr>\n      <th>1</th>\n      <td>5723133</td>\n    </tr>\n    <tr>\n      <th>2</th>\n      <td>3276743</td>\n    </tr>\n    <tr>\n      <th>3</th>\n      <td>4238589</td>\n    </tr>\n    <tr>\n      <th>4</th>\n      <td>4475369</td>\n    </tr>\n  </tbody>\n</table>\n</div>"
     },
     "execution_count": 17,
     "metadata": {},
     "output_type": "execute_result"
    }
   ],
   "source": [
    "active_studs.head()  # смотрим"
   ]
  },
  {
   "cell_type": "code",
   "execution_count": 18,
   "metadata": {
    "pycharm": {
     "name": "#%%\n"
    }
   },
   "outputs": [
    {
     "data": {
      "text/plain": "student_id    0\ndtype: int64"
     },
     "execution_count": 18,
     "metadata": {},
     "output_type": "execute_result"
    }
   ],
   "source": [
    "active_studs.isna().sum()  # проверим есть ли пропущенные значения"
   ]
  },
  {
   "cell_type": "markdown",
   "metadata": {
    "pycharm": {
     "name": "#%% md\n"
    }
   },
   "source": [
    "пропущенных значений нет"
   ]
  },
  {
   "cell_type": "markdown",
   "metadata": {
    "pycharm": {
     "name": "#%% md\n"
    }
   },
   "source": [
    "### *Объединим таблицы с данными в одну результирующую*"
   ]
  },
  {
   "cell_type": "code",
   "execution_count": 19,
   "metadata": {
    "pycharm": {
     "name": "#%%\n"
    }
   },
   "outputs": [],
   "source": [
    "df = groups.append(group_add)  # добавим к таблице groups таблицу group_add"
   ]
  },
  {
   "cell_type": "code",
   "execution_count": 20,
   "metadata": {
    "pycharm": {
     "name": "#%%\n"
    }
   },
   "outputs": [
    {
     "data": {
      "text/plain": "True"
     },
     "execution_count": 20,
     "metadata": {},
     "output_type": "execute_result"
    }
   ],
   "source": [
    "df.shape[0] == groups.shape[0] + group_add.shape[0]  # проверим верно ли произошло объединение"
   ]
  },
  {
   "cell_type": "markdown",
   "metadata": {
    "pycharm": {
     "name": "#%% md\n"
    }
   },
   "source": [
    "количество строк совпадает"
   ]
  },
  {
   "cell_type": "code",
   "execution_count": 21,
   "metadata": {
    "pycharm": {
     "name": "#%%\n"
    }
   },
   "outputs": [],
   "source": [
    "experiment = df.merge(active_studs, how='outer', left_on='id', right_on='student_id')  \n",
    "# смёрджим датафрейм где пользователи разбиты по группам (df) с датафреймом активных пользователей active_studs."
   ]
  },
  {
   "cell_type": "markdown",
   "metadata": {
    "pycharm": {
     "name": "#%% md\n"
    }
   },
   "source": [
    "столбец student_id дублирует столбец id. Заменим значения в столбце student_id в зависимости от значения: пропущенные значения заменим на False заполненные значения на True. Так как столбец student_id пришёл из датафрейма активных пользователей, то преобразованный таким образом столбец будет отображать был ли данный пользователь активен во время эскперимента или нет. Переименуем данный столбец в active"
   ]
  },
  {
   "cell_type": "code",
   "execution_count": 22,
   "metadata": {
    "pycharm": {
     "name": "#%%\n"
    }
   },
   "outputs": [],
   "source": [
    "experiment['student_id'] = experiment.student_id.notna()\n",
    "experiment.rename(columns={'student_id': 'active'}, inplace=True)"
   ]
  },
  {
   "cell_type": "code",
   "execution_count": 23,
   "metadata": {
    "pycharm": {
     "name": "#%%\n"
    }
   },
   "outputs": [],
   "source": [
    "experiment = experiment.merge(checks, how='outer', left_on='id', right_on='student_id')  \n",
    "# примерджим к получившемуся датафрейму experiment датафрейм checks с данными об оплате. Тип merge outer"
   ]
  },
  {
   "cell_type": "markdown",
   "metadata": {
    "pycharm": {
     "name": "#%% md\n"
    }
   },
   "source": [
    "столбец student_id преобразуем аналогичным образом как и в предыдущем шаге. Новый столбец отображает заплатил ли пользователь во время эксперимента. Назовём его payingю Заменим NaN в столбце rev на 0."
   ]
  },
  {
   "cell_type": "code",
   "execution_count": 24,
   "metadata": {
    "pycharm": {
     "name": "#%%\n"
    }
   },
   "outputs": [],
   "source": [
    "experiment['student_id'] = experiment.student_id.notna()\n",
    "experiment.rename(columns={'student_id': 'paying'}, inplace=True)\n",
    "experiment.rev.fillna(0, inplace=True)"
   ]
  },
  {
   "cell_type": "code",
   "execution_count": 25,
   "metadata": {
    "pycharm": {
     "name": "#%%\n"
    }
   },
   "outputs": [
    {
     "data": {
      "text/plain": "     id grp  active  paying    rev\n0  1489   B   False   False    0.0\n1  1627   A    True    True  990.0\n2  1768   B   False   False    0.0\n3  1783   B   False   False    0.0\n4  1794   A   False   False    0.0",
      "text/html": "<div>\n<style scoped>\n    .dataframe tbody tr th:only-of-type {\n        vertical-align: middle;\n    }\n\n    .dataframe tbody tr th {\n        vertical-align: top;\n    }\n\n    .dataframe thead th {\n        text-align: right;\n    }\n</style>\n<table border=\"1\" class=\"dataframe\">\n  <thead>\n    <tr style=\"text-align: right;\">\n      <th></th>\n      <th>id</th>\n      <th>grp</th>\n      <th>active</th>\n      <th>paying</th>\n      <th>rev</th>\n    </tr>\n  </thead>\n  <tbody>\n    <tr>\n      <th>0</th>\n      <td>1489</td>\n      <td>B</td>\n      <td>False</td>\n      <td>False</td>\n      <td>0.0</td>\n    </tr>\n    <tr>\n      <th>1</th>\n      <td>1627</td>\n      <td>A</td>\n      <td>True</td>\n      <td>True</td>\n      <td>990.0</td>\n    </tr>\n    <tr>\n      <th>2</th>\n      <td>1768</td>\n      <td>B</td>\n      <td>False</td>\n      <td>False</td>\n      <td>0.0</td>\n    </tr>\n    <tr>\n      <th>3</th>\n      <td>1783</td>\n      <td>B</td>\n      <td>False</td>\n      <td>False</td>\n      <td>0.0</td>\n    </tr>\n    <tr>\n      <th>4</th>\n      <td>1794</td>\n      <td>A</td>\n      <td>False</td>\n      <td>False</td>\n      <td>0.0</td>\n    </tr>\n  </tbody>\n</table>\n</div>"
     },
     "execution_count": 25,
     "metadata": {},
     "output_type": "execute_result"
    }
   ],
   "source": [
    "experiment.head()"
   ]
  },
  {
   "cell_type": "markdown",
   "metadata": {
    "pycharm": {
     "name": "#%% md\n"
    }
   },
   "source": [
    "### *Покрутим по всякому получившийся датафрейм*"
   ]
  },
  {
   "cell_type": "code",
   "execution_count": 26,
   "metadata": {
    "pycharm": {
     "name": "#%%\n"
    }
   },
   "outputs": [
    {
     "data": {
      "text/plain": "        id\ngrp       \nA    14693\nB    59883",
      "text/html": "<div>\n<style scoped>\n    .dataframe tbody tr th:only-of-type {\n        vertical-align: middle;\n    }\n\n    .dataframe tbody tr th {\n        vertical-align: top;\n    }\n\n    .dataframe thead th {\n        text-align: right;\n    }\n</style>\n<table border=\"1\" class=\"dataframe\">\n  <thead>\n    <tr style=\"text-align: right;\">\n      <th></th>\n      <th>id</th>\n    </tr>\n    <tr>\n      <th>grp</th>\n      <th></th>\n    </tr>\n  </thead>\n  <tbody>\n    <tr>\n      <th>A</th>\n      <td>14693</td>\n    </tr>\n    <tr>\n      <th>B</th>\n      <td>59883</td>\n    </tr>\n  </tbody>\n</table>\n</div>"
     },
     "execution_count": 26,
     "metadata": {},
     "output_type": "execute_result"
    }
   ],
   "source": [
    "experiment.groupby('grp').agg({'id': 'count'})  # посмотрим на количество пользователей в каждой группе"
   ]
  },
  {
   "cell_type": "markdown",
   "metadata": {
    "pycharm": {
     "name": "#%% md\n"
    }
   },
   "source": [
    "В целевой группе \"B\" гораздо больше пользователей чем в контрольной.\n",
    "Обычно когда тестируют гипотезу, новую функцию распространяют на меньшую часть пользователей продукта, чтобы избежать потерь и больших проблем, если новая функция не зайдет.\n",
    "В нашем случае целевая группа может больше потому что была уверенность в успехе эсперимента, либо старая механика оплаты была очень плоха."
   ]
  },
  {
   "cell_type": "code",
   "execution_count": 27,
   "metadata": {
    "pycharm": {
     "name": "#%%\n"
    }
   },
   "outputs": [
    {
     "data": {
      "text/plain": "grp  active  paying\nA    False   False          0.0000\n             True       19276.0000\n     True    False          0.0000\n             True       72820.0000\nB    False   False          0.0000\n             True       86256.0001\n     True    False          0.0000\n             True      394974.0035\nName: rev, dtype: float64"
     },
     "execution_count": 27,
     "metadata": {},
     "output_type": "execute_result"
    }
   ],
   "source": [
    "experiment.groupby(['grp', 'active', 'paying']).rev.sum()  # посмотрим суммы чеков"
   ]
  },
  {
   "cell_type": "markdown",
   "metadata": {
    "pycharm": {
     "name": "#%% md\n"
    }
   },
   "source": [
    "На первый взгляд  выглядит странным что у пользователей которые не заходили на платформу были платежи в дни проведения эксперимента. Такое наблюдается в обоих группах в целевой и в контрольной\n",
    "\n",
    "Расмотрим такие случаи"
   ]
  },
  {
   "cell_type": "code",
   "execution_count": 28,
   "metadata": {
    "pycharm": {
     "name": "#%%\n"
    }
   },
   "outputs": [
    {
     "data": {
      "text/plain": "grp  active  paying\nA    False   False     13126\n             True         29\n     True    False      1460\n             True         78\nB    False   False     52960\n             True        120\n     True    False      6489\n             True        314\nName: id, dtype: int64"
     },
     "execution_count": 28,
     "metadata": {},
     "output_type": "execute_result"
    }
   ],
   "source": [
    "experiment.groupby(['grp', 'active', 'paying']).id.count()"
   ]
  },
  {
   "cell_type": "code",
   "execution_count": 29,
   "metadata": {},
   "outputs": [
    {
     "data": {
      "text/plain": "grp  active\nA    False      29\n     True       78\nB    False     120\n     True      314\nName: id, dtype: int64"
     },
     "execution_count": 29,
     "metadata": {},
     "output_type": "execute_result"
    }
   ],
   "source": [
    "experiment.query('paying == True').groupby(['grp', 'active']).id.count()"
   ]
  },
  {
   "cell_type": "markdown",
   "metadata": {
    "pycharm": {
     "name": "#%% md\n"
    }
   },
   "source": [
    "около 30% платежей в каждой группе были от пользователей которые не заходили на платформу во время эксперимента.\n",
    "Версии как такое могло произойти:\n",
    "* пользователи совершили платеж не посещая сайт, воспользовавшись иными способами оплаты или автоплатежом\n",
    "* что то пошло не так когда записывались данные эксперимента (данные о посещении)\n",
    "* ошибка в данных о платежах\n",
    "\n",
    "\n",
    "Не стоит исключать две последние версии, но тогда это ставит под вопрос все полученные в ходе эксперимента данные.\n",
    "\n",
    "Предположим, что пользователи совершили платёж не посещая сайт воспользовавшись альтернативными способами оплаты. Значит следует оставить в датафрейме данные только о тех пользователях которые посещали платформу во время эксперимента и воспользовались обновленной механикой оплаты."
   ]
  },
  {
   "cell_type": "code",
   "execution_count": 30,
   "metadata": {
    "pycharm": {
     "name": "#%%\n"
    }
   },
   "outputs": [],
   "source": [
    "exp_active = experiment.query('active == True')  # создаём датафрейм с активными пользователями"
   ]
  },
  {
   "cell_type": "code",
   "execution_count": 31,
   "metadata": {
    "pycharm": {
     "name": "#%%\n"
    }
   },
   "outputs": [
    {
     "data": {
      "text/plain": "      id grp  active  paying    rev\n1   1627   A    True    True  990.0\n10  2085   B    True   False    0.0\n12  2215   B    True   False    0.0\n43  3391   A    True   False    0.0\n45  3401   B    True   False    0.0",
      "text/html": "<div>\n<style scoped>\n    .dataframe tbody tr th:only-of-type {\n        vertical-align: middle;\n    }\n\n    .dataframe tbody tr th {\n        vertical-align: top;\n    }\n\n    .dataframe thead th {\n        text-align: right;\n    }\n</style>\n<table border=\"1\" class=\"dataframe\">\n  <thead>\n    <tr style=\"text-align: right;\">\n      <th></th>\n      <th>id</th>\n      <th>grp</th>\n      <th>active</th>\n      <th>paying</th>\n      <th>rev</th>\n    </tr>\n  </thead>\n  <tbody>\n    <tr>\n      <th>1</th>\n      <td>1627</td>\n      <td>A</td>\n      <td>True</td>\n      <td>True</td>\n      <td>990.0</td>\n    </tr>\n    <tr>\n      <th>10</th>\n      <td>2085</td>\n      <td>B</td>\n      <td>True</td>\n      <td>False</td>\n      <td>0.0</td>\n    </tr>\n    <tr>\n      <th>12</th>\n      <td>2215</td>\n      <td>B</td>\n      <td>True</td>\n      <td>False</td>\n      <td>0.0</td>\n    </tr>\n    <tr>\n      <th>43</th>\n      <td>3391</td>\n      <td>A</td>\n      <td>True</td>\n      <td>False</td>\n      <td>0.0</td>\n    </tr>\n    <tr>\n      <th>45</th>\n      <td>3401</td>\n      <td>B</td>\n      <td>True</td>\n      <td>False</td>\n      <td>0.0</td>\n    </tr>\n  </tbody>\n</table>\n</div>"
     },
     "execution_count": 31,
     "metadata": {},
     "output_type": "execute_result"
    }
   ],
   "source": [
    "exp_active.head()"
   ]
  },
  {
   "cell_type": "markdown",
   "metadata": {
    "pycharm": {
     "name": "#%% md\n"
    }
   },
   "source": [
    "Конверсия в покупку в группах:"
   ]
  },
  {
   "cell_type": "code",
   "execution_count": 32,
   "metadata": {
    "pycharm": {
     "name": "#%%\n"
    }
   },
   "outputs": [
    {
     "data": {
      "text/plain": "grp\nA    0.050715\nB    0.046156\nName: paying, dtype: float64"
     },
     "execution_count": 32,
     "metadata": {},
     "output_type": "execute_result"
    }
   ],
   "source": [
    "exp_active.groupby('grp').paying.mean()"
   ]
  },
  {
   "cell_type": "markdown",
   "metadata": {
    "pycharm": {
     "name": "#%% md\n"
    }
   },
   "source": [
    "Средний чек в группах"
   ]
  },
  {
   "cell_type": "code",
   "execution_count": 33,
   "metadata": {
    "pycharm": {
     "name": "#%%\n"
    }
   },
   "outputs": [
    {
     "data": {
      "text/plain": "grp\nA     933.589744\nB    1257.878992\nName: rev, dtype: float64"
     },
     "execution_count": 33,
     "metadata": {},
     "output_type": "execute_result"
    }
   ],
   "source": [
    "exp_active.query('paying == True').groupby('grp').rev.mean()"
   ]
  },
  {
   "cell_type": "markdown",
   "metadata": {
    "pycharm": {
     "name": "#%% md\n"
    }
   },
   "source": [
    "Медианный чек в группах"
   ]
  },
  {
   "cell_type": "code",
   "execution_count": 34,
   "metadata": {
    "pycharm": {
     "name": "#%%\n"
    }
   },
   "outputs": [
    {
     "data": {
      "text/plain": "grp\nA     585.0\nB    1140.0\nName: rev, dtype: float64"
     },
     "execution_count": 34,
     "metadata": {},
     "output_type": "execute_result"
    }
   ],
   "source": [
    "exp_active.query('paying == True').groupby('grp').rev.median()"
   ]
  },
  {
   "cell_type": "markdown",
   "metadata": {
    "pycharm": {
     "name": "#%% md\n"
    }
   },
   "source": [
    "### Метрики\n",
    "Конверсия в покупку весьма важна в нашем эксперименте, т.к. если новая механика оплаты работает плохо или не нравится пользователям то эта метрика просядет.\n",
    "Так же будем смотреть размер чека, т.к. в конце концов, его увеличение или, по крайней мере, сохранение является целью бизнеса.\n",
    "\n",
    "Видим что средний больше в целевой группе, а конверсия в покупку больше в контрольной группе.\n",
    "\n",
    "Проверим являются ли эти различия статически значимыми."
   ]
  },
  {
   "cell_type": "markdown",
   "metadata": {
    "pycharm": {
     "name": "#%% md\n"
    }
   },
   "source": [
    "## *Потестируем!*"
   ]
  },
  {
   "cell_type": "markdown",
   "metadata": {
    "pycharm": {
     "name": "#%% md\n"
    }
   },
   "source": [
    "### *Для начала сравним конверсию в покупки в обеих группах.*"
   ]
  },
  {
   "cell_type": "markdown",
   "metadata": {
    "pycharm": {
     "name": "#%% md\n"
    }
   },
   "source": [
    "Для начала сравним конверсию в покупки в обеих группах.\n",
    "\n",
    "Так как в данном случае мы имеем дело с номинативными переменными: A/B True/False(1/0) будем использовать один из тестов:\n",
    "* chi-square test (неплохо подходит в данном случае)\n",
    "* fisher exact test (хорош для маленьких выборок)\n",
    "* proportion z test (не очень хорош когда размеры выборок отличаются)\n",
    "* bootstrap (подходит нам, но требует больше времени на написание чем тот же chi-square test)\n",
    "* и даже t-test (в данном случае всё же воспользоваться другими варинатами)\n",
    "\n",
    "Выберем тест хи-квадрат (chi-square test), т.к. он подходит в данном случае.\n",
    "\n",
    "* **Нулевая гипотеза (H0)** конверсия в покупку в двух группах стат. значимо не различается\n",
    "* **Альтернативная гипотеза (H1)** конверсия в покупку в двух группах стат. значимо различается\n",
    "\n",
    "Отвергать нулевую гипотезу будем при уровне p_value <= 0.05"
   ]
  },
  {
   "cell_type": "code",
   "execution_count": 35,
   "metadata": {
    "pycharm": {
     "name": "#%%\n"
    }
   },
   "outputs": [],
   "source": [
    "co_table = pd.crosstab(exp_active['grp'], exp_active['paying'])  # построим таблицу сопряженности"
   ]
  },
  {
   "cell_type": "code",
   "execution_count": 36,
   "metadata": {
    "pycharm": {
     "name": "#%%\n"
    }
   },
   "outputs": [
    {
     "data": {
      "text/plain": "paying  False  True \ngrp                 \nA        1460     78\nB        6489    314",
      "text/html": "<div>\n<style scoped>\n    .dataframe tbody tr th:only-of-type {\n        vertical-align: middle;\n    }\n\n    .dataframe tbody tr th {\n        vertical-align: top;\n    }\n\n    .dataframe thead th {\n        text-align: right;\n    }\n</style>\n<table border=\"1\" class=\"dataframe\">\n  <thead>\n    <tr style=\"text-align: right;\">\n      <th>paying</th>\n      <th>False</th>\n      <th>True</th>\n    </tr>\n    <tr>\n      <th>grp</th>\n      <th></th>\n      <th></th>\n    </tr>\n  </thead>\n  <tbody>\n    <tr>\n      <th>A</th>\n      <td>1460</td>\n      <td>78</td>\n    </tr>\n    <tr>\n      <th>B</th>\n      <td>6489</td>\n      <td>314</td>\n    </tr>\n  </tbody>\n</table>\n</div>"
     },
     "execution_count": 36,
     "metadata": {},
     "output_type": "execute_result"
    }
   ],
   "source": [
    "co_table"
   ]
  },
  {
   "cell_type": "code",
   "execution_count": 37,
   "metadata": {
    "pycharm": {
     "name": "#%%\n"
    }
   },
   "outputs": [],
   "source": [
    "stat, p_value, dof, expected = stats.chi2_contingency(co_table)  # проводим тест"
   ]
  },
  {
   "cell_type": "code",
   "execution_count": 38,
   "metadata": {
    "pycharm": {
     "name": "#%%\n"
    }
   },
   "outputs": [
    {
     "data": {
      "text/plain": "0.48625240457231045"
     },
     "execution_count": 38,
     "metadata": {},
     "output_type": "execute_result"
    }
   ],
   "source": [
    "p_value"
   ]
  },
  {
   "cell_type": "markdown",
   "metadata": {
    "pycharm": {
     "name": "#%% md\n"
    }
   },
   "source": [
    "Полученный в результате теста p_value не позволяет отвергнуть нулевую гипотезу. Мы можем сделать вывод, что наш AB тест показал, что конверсия в покупку в целевой и контрольной группах не различается."
   ]
  },
  {
   "cell_type": "markdown",
   "metadata": {
    "pycharm": {
     "name": "#%% md\n"
    }
   },
   "source": [
    "### *Cравним размер чеков в обеих группах*"
   ]
  },
  {
   "cell_type": "markdown",
   "metadata": {
    "pycharm": {
     "name": "#%% md\n"
    }
   },
   "source": [
    "Сначала следует определиться каким тестом будем пользоваться. По хорошему этим вопросом следует задаться ещё на этапе дизайна AB теста.\n",
    "\n",
    "В данном случае нам предстоит сравнить две группы по одной метрике и нам подходит:\n",
    "* t-test (критерий Стьюдента)\n",
    "* mann-whitney u test (критерий Манна-Уитни)\n",
    "* bootstrap\n",
    "\n",
    "Требования к выборкам t-test (критерию стьюдента):\n",
    "* Дисперсия внутри групп должны быть примерно одинаковы(требование гомогенности дисперсий).\n",
    "* Распределение средних метрики должно быть нормальным.\n"
   ]
  },
  {
   "cell_type": "code",
   "execution_count": 39,
   "metadata": {
    "pycharm": {
     "name": "#%%\n"
    }
   },
   "outputs": [],
   "source": [
    "exp_pay = exp_active.query('paying == True')  # передадим в новый датафрейм только оплативших пользователей"
   ]
  },
  {
   "cell_type": "code",
   "execution_count": 40,
   "metadata": {
    "pycharm": {
     "name": "#%%\n"
    }
   },
   "outputs": [
    {
     "data": {
      "text/plain": "          id grp  active  paying        rev\n1       1627   A    True    True   990.0000\n220   100300   B    True    True   990.0000\n320   108270   B    True    True   290.0000\n3779  264473   B    True    True  1900.0001\n4187  274352   B    True    True   690.0000",
      "text/html": "<div>\n<style scoped>\n    .dataframe tbody tr th:only-of-type {\n        vertical-align: middle;\n    }\n\n    .dataframe tbody tr th {\n        vertical-align: top;\n    }\n\n    .dataframe thead th {\n        text-align: right;\n    }\n</style>\n<table border=\"1\" class=\"dataframe\">\n  <thead>\n    <tr style=\"text-align: right;\">\n      <th></th>\n      <th>id</th>\n      <th>grp</th>\n      <th>active</th>\n      <th>paying</th>\n      <th>rev</th>\n    </tr>\n  </thead>\n  <tbody>\n    <tr>\n      <th>1</th>\n      <td>1627</td>\n      <td>A</td>\n      <td>True</td>\n      <td>True</td>\n      <td>990.0000</td>\n    </tr>\n    <tr>\n      <th>220</th>\n      <td>100300</td>\n      <td>B</td>\n      <td>True</td>\n      <td>True</td>\n      <td>990.0000</td>\n    </tr>\n    <tr>\n      <th>320</th>\n      <td>108270</td>\n      <td>B</td>\n      <td>True</td>\n      <td>True</td>\n      <td>290.0000</td>\n    </tr>\n    <tr>\n      <th>3779</th>\n      <td>264473</td>\n      <td>B</td>\n      <td>True</td>\n      <td>True</td>\n      <td>1900.0001</td>\n    </tr>\n    <tr>\n      <th>4187</th>\n      <td>274352</td>\n      <td>B</td>\n      <td>True</td>\n      <td>True</td>\n      <td>690.0000</td>\n    </tr>\n  </tbody>\n</table>\n</div>"
     },
     "execution_count": 40,
     "metadata": {},
     "output_type": "execute_result"
    }
   ],
   "source": [
    "exp_pay.head()"
   ]
  },
  {
   "cell_type": "markdown",
   "metadata": {
    "pycharm": {
     "name": "#%% md\n"
    }
   },
   "source": [
    "Построим пару графиков чтобы понять как распределены значения выборочных средних: нормально или нет.\n",
    "\n",
    "Для этого объявим функцию которая будет брать выборки (с возвращением) из наших групп и считать для них среднее и строить Q-Q график и гистограмму распределения.\n",
    "Так же впишем в функцию проверку полученных распределений выборочных средних **критерием Шапиро-Уилка** на нормальность\n",
    "* **Нулевая гипотеза (H0)** выборки получены из нормального распределения\n",
    "* **Альтернативная гипотеза (H1)** выборка получены не из нормального распределения\n",
    "\n",
    "Отвергать нулевую гипотезу будем при уровне p_value < 0.05"
   ]
  },
  {
   "cell_type": "code",
   "execution_count": 41,
   "metadata": {
    "pycharm": {
     "name": "#%%\n"
    }
   },
   "outputs": [],
   "source": [
    "def get_sample_aver(\n",
    "        data_column_1,  # числовые значения первой выборки\n",
    "        data_column_2,  # числовые значения второй выборки\n",
    "        boot_it=1000,  # количество подвыборок\n",
    "):\n",
    "    boot_len = max([len(data_column_1), len(data_column_2)])\n",
    "    boot_data_1 = []\n",
    "    boot_data_2 = []\n",
    "    for i in tqdm(range(boot_it)):  # извлекаем подвыборки\n",
    "        samples_1 = data_column_1.sample(\n",
    "            boot_len,\n",
    "            replace=True  # параметр возвращения\n",
    "        ).values\n",
    "\n",
    "        samples_2 = data_column_2.sample(\n",
    "            boot_len,\n",
    "            replace=True\n",
    "        ).values\n",
    "\n",
    "        boot_data_1.append(np.mean(samples_1))\n",
    "        boot_data_2.append(np.mean(samples_2))\n",
    "\n",
    "    s1, p1 = stats.shapiro(boot_data_1)\n",
    "    s2, p2 = stats.shapiro(boot_data_2)\n",
    "\n",
    "    print(f'p value для группы А {p1}')\n",
    "    print(f'p value для группы B {p2}')\n",
    "\n",
    "    # визуализация\n",
    "    fig, axes = plt.subplots(2, 2, figsize=(15, 10))\n",
    "    ax1 = plt.subplot(221)\n",
    "    stats.probplot(boot_data_1, dist='norm', plot=plt)\n",
    "    ax1.set_title(\"Распределение выборочных средних А\")\n",
    "    ax2 = plt.subplot(222)\n",
    "    stats.probplot(boot_data_2, dist='norm', plot=plt)\n",
    "    ax2.set_title(\"Распределение выборочных средних B\")\n",
    "    plt.subplot(223)\n",
    "    sns.histplot(data=boot_data_1)\n",
    "    plt.subplot(224)\n",
    "    sns.histplot(data=boot_data_2)\n",
    "    pylab.show()"
   ]
  },
  {
   "cell_type": "code",
   "execution_count": 42,
   "metadata": {
    "pycharm": {
     "name": "#%%\n"
    }
   },
   "outputs": [
    {
     "data": {
      "text/plain": "  0%|          | 0/1000 [00:00<?, ?it/s]",
      "application/vnd.jupyter.widget-view+json": {
       "version_major": 2,
       "version_minor": 0,
       "model_id": "0349b8e6d5ab41f29d9ef1071b5b3a29"
      }
     },
     "metadata": {},
     "output_type": "display_data"
    },
    {
     "name": "stdout",
     "output_type": "stream",
     "text": [
      "p value для группы А 0.29154568910598755\n",
      "p value для группы B 0.2527162432670593\n"
     ]
    },
    {
     "data": {
      "text/plain": "<Figure size 1080x720 with 4 Axes>",
      "image/png": "[encoded data removed]"
     },
     "metadata": {
      "needs_background": "light"
     },
     "output_type": "display_data"
    }
   ],
   "source": [
    "get_sample_aver(exp_pay[exp_pay.grp == 'A'].rev, exp_pay[exp_pay.grp == 'B'].rev)"
   ]
  },
  {
   "cell_type": "markdown",
   "metadata": {
    "pycharm": {
     "name": "#%% md\n"
    }
   },
   "source": [
    "По графикам видно что оба распредления довольно близки к нормальным. Проверка нормальности критерием Шапиро-Уилка в обоих группах показала p-value больше 0.05, что не позволяет нам отвергнуть нулевую гипотезу о нормальности выборок. Будем считать что выборки нормальны."
   ]
  },
  {
   "cell_type": "markdown",
   "metadata": {
    "pycharm": {
     "name": "#%% md\n"
    }
   },
   "source": [
    "Проверим гомогенность дисперсий в группах помощью **критерия Левена**:\n",
    "* **Нулевая гипотеза (H0)** дисперсия в выборках гомогенна\n",
    "* **Альтернативная гипотеза (H1)** дисперсия в выборках не гомогенна\n",
    "\n",
    "Отвергать нулевую гипотезу будем при уровне p_value < 0.05"
   ]
  },
  {
   "cell_type": "code",
   "execution_count": 43,
   "metadata": {
    "pycharm": {
     "name": "#%%\n"
    }
   },
   "outputs": [
    {
     "data": {
      "text/plain": "LeveneResult(statistic=3.075681699981606, pvalue=0.08025675761347022)"
     },
     "execution_count": 43,
     "metadata": {},
     "output_type": "execute_result"
    }
   ],
   "source": [
    "stats.levene(exp_pay[exp_pay.grp == 'A'].rev, exp_pay[exp_pay.grp == 'B'].rev)"
   ]
  },
  {
   "cell_type": "markdown",
   "metadata": {
    "pycharm": {
     "name": "#%% md\n"
    }
   },
   "source": [
    "Полученные pvalue = 0.08 не позволят нам отвергнуть нулевую гипотезу, а значит дисперссии в выборках гомогенны.\n",
    "\n",
    "Требования критерия **t test Стьюдента** соблюдены.\n",
    "А значит можно сравнить чеки в обоих группах:\n",
    "* **Нулевая гипотеза (H0)** между средними значениями в обоих группах нет различия\n",
    "* **Альтернативная гипотеза (H1)** средние значения в обоих группах не равны\n",
    "\n",
    "Отвергать нулевую гипотезу будем при уровне p-value < 0.05\n"
   ]
  },
  {
   "cell_type": "code",
   "execution_count": 44,
   "metadata": {
    "pycharm": {
     "name": "#%%\n"
    }
   },
   "outputs": [
    {
     "data": {
      "text/plain": "Ttest_indResult(statistic=-3.1337795050930985, pvalue=0.0018562025265765867)"
     },
     "execution_count": 44,
     "metadata": {},
     "output_type": "execute_result"
    }
   ],
   "source": [
    "stats.ttest_ind(exp_pay[exp_pay.grp == 'A'].rev, exp_pay[exp_pay.grp == 'B'].rev)"
   ]
  },
  {
   "cell_type": "markdown",
   "metadata": {
    "pycharm": {
     "name": "#%% md\n"
    }
   },
   "source": [
    "Полученные pvalue = 0.002 позволят нам отвергнуть нулевую гипотезу, а значит согласно t test Стьюдента средние чеки в группах стат. значимо различаются."
   ]
  },
  {
   "cell_type": "markdown",
   "metadata": {
    "pycharm": {
     "name": "#%% md\n"
    }
   },
   "source": [
    "В данном случае также можно использовать **mann-whitney u test** и (или) **bootstrap**.\n",
    "\n",
    "Используем **bootstrap** с оценкой среднего и медианы, чтобы избежать влияния выбросов на результаты.\n",
    "\n",
    "* **Нулевая гипотеза (H0)** среднее/медиана чеков в двух группах стат. значимо равны\n",
    "* **Альтернативная гипотеза (H1)** среднее/медиана чеков в двух группах стат. значимо различаются\n",
    "\n",
    "Отвергать нулевую гипотезу будем при уровне p_value < 0.05\n",
    "\n",
    "Объявим функцию, которая позволит проверять гипотезы с помощью бутстрапа\n"
   ]
  },
  {
   "cell_type": "code",
   "execution_count": 45,
   "metadata": {
    "pycharm": {
     "name": "#%%\n"
    }
   },
   "outputs": [],
   "source": [
    "def get_bootstrap(\n",
    "        data_column_1,  # числовые значения первой выборки\n",
    "        data_column_2,  # числовые значения второй выборки\n",
    "        boot_it=1000,  # количество бутстрэп-подвыборок\n",
    "        statistic=np.mean,  # интересующая нас статистика\n",
    "        bootstrap_conf_level=0.95  # уровень значимости\n",
    "):\n",
    "    boot_len = max([len(data_column_1), len(data_column_2)])\n",
    "    boot_data = []\n",
    "    for i in tqdm(range(boot_it)):  # извлекаем подвыборки\n",
    "        samples_1 = data_column_1.sample(\n",
    "            boot_len,\n",
    "            replace=True  # параметр возвращения\n",
    "        ).values\n",
    "\n",
    "        samples_2 = data_column_2.sample(\n",
    "            boot_len,\n",
    "            replace=True\n",
    "        ).values\n",
    "\n",
    "        boot_data.append(statistic(samples_1 - samples_2))  # mean() - применяем статистику\n",
    "\n",
    "    pd_boot_data = pd.DataFrame(boot_data)\n",
    "\n",
    "    left_quant = (1 - bootstrap_conf_level) / 2\n",
    "    right_quant = 1 - (1 - bootstrap_conf_level) / 2\n",
    "    ci = pd_boot_data.quantile([left_quant, right_quant])\n",
    "\n",
    "    p_1 = norm.cdf(\n",
    "        x=0,\n",
    "        loc=np.mean(boot_data),\n",
    "        scale=np.std(boot_data)\n",
    "    )\n",
    "    p_2 = norm.cdf(\n",
    "        x=0,\n",
    "        loc=-np.mean(boot_data),\n",
    "        scale=np.std(boot_data)\n",
    "    )\n",
    "    p_value = min(p_1, p_2) * 2\n",
    "\n",
    "    # Визуализация\n",
    "    plt.hist(pd_boot_data[0], bins=50)\n",
    "\n",
    "    plt.style.use('ggplot')\n",
    "    plt.vlines(ci, ymin=0, ymax=100, colors='black', linestyle='--')\n",
    "    plt.xlabel('boot_data')\n",
    "    plt.ylabel('frequency')\n",
    "    plt.title(\"Histogram of boot_data\")\n",
    "    plt.show()\n",
    "\n",
    "    return {\"boot_data\": boot_data,\n",
    "            \"ci\": ci,\n",
    "            \"p_value\": p_value}"
   ]
  },
  {
   "cell_type": "code",
   "execution_count": 46,
   "metadata": {
    "pycharm": {
     "name": "#%%\n"
    }
   },
   "outputs": [
    {
     "data": {
      "text/plain": "  0%|          | 0/1000 [00:00<?, ?it/s]",
      "application/vnd.jupyter.widget-view+json": {
       "version_major": 2,
       "version_minor": 0,
       "model_id": "cc5055c8235d408fac864dc9cd7c2fbf"
      }
     },
     "metadata": {},
     "output_type": "display_data"
    },
    {
     "data": {
      "text/plain": "<Figure size 432x288 with 1 Axes>",
      "image/png": "[encoded data removed]"
     },
     "metadata": {
      "needs_background": "light"
     },
     "output_type": "display_data"
    }
   ],
   "source": [
    "booted_data = get_bootstrap(exp_pay[exp_pay.grp == 'A'].rev, exp_pay[exp_pay.grp == 'B'].rev)"
   ]
  },
  {
   "cell_type": "code",
   "execution_count": 47,
   "metadata": {
    "pycharm": {
     "name": "#%%\n"
    }
   },
   "outputs": [
    {
     "data": {
      "text/plain": "1.9220090767460656e-06"
     },
     "execution_count": 47,
     "metadata": {},
     "output_type": "execute_result"
    }
   ],
   "source": [
    "booted_data[\"p_value\"]"
   ]
  },
  {
   "cell_type": "code",
   "execution_count": 48,
   "metadata": {
    "pycharm": {
     "name": "#%%\n"
    }
   },
   "outputs": [
    {
     "data": {
      "text/plain": "  0%|          | 0/1000 [00:00<?, ?it/s]",
      "application/vnd.jupyter.widget-view+json": {
       "version_major": 2,
       "version_minor": 0,
       "model_id": "296433b4bb354f3d8df92553e435d6e3"
      }
     },
     "metadata": {},
     "output_type": "display_data"
    },
    {
     "data": {
      "text/plain": "<Figure size 432x288 with 1 Axes>",
      "image/png": "[encoded data removed]"
     },
     "metadata": {},
     "output_type": "display_data"
    }
   ],
   "source": [
    "booted_data = get_bootstrap(exp_pay[exp_pay.grp == 'A'].rev, exp_pay[exp_pay.grp == 'B'].rev, statistic=np.median)"
   ]
  },
  {
   "cell_type": "code",
   "execution_count": 49,
   "metadata": {
    "pycharm": {
     "name": "#%%\n"
    }
   },
   "outputs": [
    {
     "data": {
      "text/plain": "1.6243464206412598e-05"
     },
     "execution_count": 49,
     "metadata": {},
     "output_type": "execute_result"
    }
   ],
   "source": [
    "booted_data[\"p_value\"]"
   ]
  },
  {
   "cell_type": "markdown",
   "metadata": {},
   "source": [
    "В результате bootstrapa в обоих случаях получилили p_value значительно меньше 0.05, что позволяет нам отвергнуть нулевую гипотезу. По результатам теста можем сделать вывод что чеки в выборках стат. значимо различаются."
   ]
  },
  {
   "cell_type": "markdown",
   "metadata": {
    "pycharm": {
     "name": "#%% md\n"
    }
   },
   "source": [
    "Проведем также  **Mann-whitney u test**, но следует учитывать что этот тест не очень хорош когда выборки отличаются по размеру. Это сказывается в первую очередь на мощности критерия – чем сильнее дисбаланс, тем реже критерий будет обнаруживать реальную разницу (эффект).\n",
    "\n",
    "* **Нулевая гипотеза (H0)** стат. значимых различий между распределением размера чека в выборкаx нет\n",
    "* **Альтернативная гипотеза (H1)** распредление размера чека в выборках стат. значимо различаются.\n",
    "\n",
    "Отвергать нулевую гипотезу будем при уровне p_value <= 0.05\n",
    "\n"
   ]
  },
  {
   "cell_type": "code",
   "execution_count": 50,
   "metadata": {
    "pycharm": {
     "name": "#%%\n"
    }
   },
   "outputs": [],
   "source": [
    "U1, p = stats.mannwhitneyu(exp_pay[exp_pay.grp == 'A'].rev, exp_pay[exp_pay.grp == 'B'].rev)"
   ]
  },
  {
   "cell_type": "code",
   "execution_count": 51,
   "metadata": {
    "pycharm": {
     "name": "#%%\n"
    }
   },
   "outputs": [
    {
     "data": {
      "text/plain": "0.0001255696915703461"
     },
     "execution_count": 51,
     "metadata": {},
     "output_type": "execute_result"
    }
   ],
   "source": [
    "p"
   ]
  },
  {
   "cell_type": "markdown",
   "metadata": {
    "pycharm": {
     "name": "#%% md\n"
    }
   },
   "source": [
    "Mann-whitney u test показал p_value меньше 0.05, а значит это позволяет нам отвергнуть нулевую гипотезу. Мы можем сделать вывод что выборки (размеры чеков) полученные в нашем тесте стат. значимо различаются"
   ]
  },
  {
   "cell_type": "markdown",
   "metadata": {
    "pycharm": {
     "name": "#%% md\n"
    }
   },
   "source": [
    "### Итак, подведем итоги - А/В тест показал что введение новой механики оплаты:\n",
    "* стат. значимо не изменило конверсию в покупку.\n",
    "* стат. значимо увеличило средний чек.\n",
    "\n",
    "Пользователи не стали чаще покупать услуги на сайте, но при этом стали больше тратить денег (возможно им предлагалась рассрочка или пакетные предложения). Такой результат вполне позволяет считать эксперимент удачным и выкатить новую еханику оплаты на всех пользвоателей.\n",
    "\n",
    "Подготовим таблицу с основными метриками и графики."
   ]
  },
  {
   "cell_type": "code",
   "execution_count": 52,
   "metadata": {},
   "outputs": [],
   "source": [
    "metric_table = experiment.groupby('grp', as_index=False).agg({'id': 'count', 'active': 'sum'})  # вычислим количество \n",
    "# пользователей и количество активных пользователей\n",
    "metric_table['paying_users'] = list(experiment.query('active == True').groupby('grp').paying.sum())\n",
    "# вычислим количество платящих пользователей\n",
    "metric_table['conversion'] = list(round(experiment.query('active == True').groupby('grp').paying.mean() * 100, 2))\n",
    "# вычислим конверсию\n",
    "metric_table['min_rev'] = list(round(experiment.query('paying == True and active == True').groupby('grp').rev.min(), 2))\n",
    "# вычислим минимальное значение чеков у активных платящих клиентов\n",
    "metric_table['max_rev'] = list(round(experiment.query('paying == True and active == True').groupby('grp').rev.max(), 2))\n",
    "# вычислим максимальное значение чеков у активных платящих клиентов\n",
    "metric_table['avg_rev'] = list(round(experiment.query('paying == True and active == True')\n",
    "                                               .groupby('grp').rev.mean(), 2))\n",
    "# вычислим среднее значение чеков у активных платящих клиентов\n",
    "metric_table.rename(columns={'grp': 'group', 'id': 'number_of_users', 'active': 'active_users'}, inplace=True)\n",
    "# назовем соответствующим образом колонки"
   ]
  },
  {
   "cell_type": "code",
   "execution_count": 53,
   "metadata": {},
   "outputs": [
    {
     "data": {
      "text/plain": "  group  number_of_users  active_users  paying_users  conversion  min_rev  \\\n0     A            14693          1538            78        5.07    199.0   \n1     B            59883          6803           314        4.62    199.0   \n\n   max_rev  avg_rev  \n0   3660.0   933.59  \n1   4650.0  1257.88  ",
      "text/html": "<div>\n<style scoped>\n    .dataframe tbody tr th:only-of-type {\n        vertical-align: middle;\n    }\n\n    .dataframe tbody tr th {\n        vertical-align: top;\n    }\n\n    .dataframe thead th {\n        text-align: right;\n    }\n</style>\n<table border=\"1\" class=\"dataframe\">\n  <thead>\n    <tr style=\"text-align: right;\">\n      <th></th>\n      <th>group</th>\n      <th>number_of_users</th>\n      <th>active_users</th>\n      <th>paying_users</th>\n      <th>conversion</th>\n      <th>min_rev</th>\n      <th>max_rev</th>\n      <th>avg_rev</th>\n    </tr>\n  </thead>\n  <tbody>\n    <tr>\n      <th>0</th>\n      <td>A</td>\n      <td>14693</td>\n      <td>1538</td>\n      <td>78</td>\n      <td>5.07</td>\n      <td>199.0</td>\n      <td>3660.0</td>\n      <td>933.59</td>\n    </tr>\n    <tr>\n      <th>1</th>\n      <td>B</td>\n      <td>59883</td>\n      <td>6803</td>\n      <td>314</td>\n      <td>4.62</td>\n      <td>199.0</td>\n      <td>4650.0</td>\n      <td>1257.88</td>\n    </tr>\n  </tbody>\n</table>\n</div>"
     },
     "execution_count": 53,
     "metadata": {},
     "output_type": "execute_result"
    }
   ],
   "source": [
    "metric_table"
   ]
  },
  {
   "cell_type": "code",
   "execution_count": 54,
   "metadata": {},
   "outputs": [
    {
     "data": {
      "text/plain": "<AxesSubplot:xlabel='group', ylabel='number_of_users'>"
     },
     "execution_count": 54,
     "metadata": {},
     "output_type": "execute_result"
    },
    {
     "data": {
      "text/plain": "<Figure size 1080x720 with 4 Axes>",
      "image/png": "[encoded data removed]"
     },
     "metadata": {},
     "output_type": "display_data"
    }
   ],
   "source": [
    "fig, axes = plt.subplots(2, 2, figsize=(15, 10))\n",
    "sns.barplot(ax=axes[1, 1], x=metric_table.group, y=metric_table.conversion)\n",
    "sns.barplot(ax=axes[0, 1], x=metric_table.group, y=metric_table.avg_rev)\n",
    "sns.boxplot(ax=axes[1, 0], data=exp_active.query('paying == True'), x='grp', y='rev')\n",
    "sns.barplot(ax=axes[0, 0], x=metric_table.group, y=metric_table.number_of_users)"
   ]
  },
  {
   "cell_type": "markdown",
   "metadata": {
    "pycharm": {
     "name": "#%% md\n"
    }
   },
   "source": [
    "## Задание 2. Python\n",
    "## 3.1 Задача\n",
    "\n",
    "1. Реализуйте функцию, которая будет автоматически подгружать информацию из дополнительного файла groups_add.csv (заголовки могут отличаться) и на основании дополнительных параметров пересчитывать метрики.\n",
    "2. Реализуйте функцию, которая будет строить графики по получаемым метрикам."
   ]
  },
  {
   "cell_type": "markdown",
   "metadata": {
    "pycharm": {
     "name": "#%% md\n"
    }
   },
   "source": [
    "### Напишем функцию для добавления информации из доп. файла"
   ]
  },
  {
   "cell_type": "code",
   "execution_count": 55,
   "metadata": {
    "pycharm": {
     "name": "#%%\n"
    }
   },
   "outputs": [],
   "source": [
    "def add_new_data(\n",
    "        exp_data,  # таблица с основными данными\n",
    "        path_to_file,  # путь к файлу groups_add.csv\n",
    "):\n",
    "    df = pd.read_csv(path_to_file, sep=',')  # считываем датафрейм с дополнительными данными\n",
    "    df.columns = ['id', 'grp']  # переименуем заголовок датафрема\n",
    "    checks = pd.read_csv('https://getfile.dokpub.com/yandex/get/https://disk.yandex.ru/d/84hTmELphW2sqQ', sep=';')\n",
    "    # считываем данные о платежах\n",
    "    active_studs = pd.read_csv('https://getfile.dokpub.com/yandex/get/https://disk.yandex.ru/d/prbgU-rZpiXVYg', sep=';')\n",
    "    # считываем данные об активных пользователях\n",
    "\n",
    "    df = df.merge(active_studs, how='left', left_on='id', right_on='student_id')\n",
    "    # примерджим данные об активных пользователях\n",
    "    df['student_id'] = df.student_id.notna()\n",
    "    df.rename(columns={'student_id': 'active'}, inplace=True)\n",
    "\n",
    "    df = df.merge(checks, how='left', left_on='id', right_on='student_id')\n",
    "    # примерджим данные об оплатах\n",
    "    df['student_id'] = df.student_id.notna()\n",
    "    df.rename(columns={'student_id': 'paying'}, inplace=True)\n",
    "    df.rev.fillna(0, inplace=True)\n",
    "\n",
    "    df = exp_data.append(df).drop_duplicates()  # добавим полученные датафрейм к существующему, уберем дубликаты\n",
    "    k = df.shape[0] - experiment.shape[0]  # сравним значения до и после добавления датаврейма\n",
    "\n",
    "    if k == 0:  # выведем сообщение в зависимости от того были ли добавлены новые данные\n",
    "        print('Новых данных не обнаружено')\n",
    "    else:\n",
    "        print(f\"Добавлено {k} новых строк\")\n",
    "\n",
    "    # расчитаем метрики на основании новых данных и выведем таблицу\n",
    "    metric_table = df.groupby('grp', as_index=False).agg({'id': 'count', 'active': 'sum'})\n",
    "    # вычислим количество пользователей и количество активных пользователей\n",
    "    metric_table['paying_users'] = list(df.query('active == True').groupby('grp').paying.sum())\n",
    "    # вычислим количество платящих пользователей\n",
    "    metric_table['conversion'] = list(round(df.query('active == True').groupby('grp').paying.mean() * 100, 2))\n",
    "    # вычислим конверсию\n",
    "    metric_table['min_rev'] = list(round(experiment.query('paying == True and active == True')\n",
    "                                                   .groupby('grp').rev.min(), 2))\n",
    "    # вычислим минимальное значение чеков у активных платящих клиентов\n",
    "    metric_table['max_rev'] = list(round(experiment.query('paying == True and active == True')\n",
    "                                                   .groupby('grp').rev.max(), 2))\n",
    "    # вычислим максимальное значение чеков у активных платящих клиентов\n",
    "    metric_table['avg_rev'] = list(round(experiment.query('paying == True and active == True')\n",
    "                                                   .groupby('grp').rev.mean(), 2))\n",
    "    # вычислим среднее значение чеков у активных платящих клиентов\n",
    "    metric_table.rename(columns={'grp': 'group', 'id': 'number_of_users', 'active': 'active_users'}, inplace=True)\n",
    "    # назовем соответствующим образом колонки\n",
    "    return metric_table"
   ]
  },
  {
   "cell_type": "code",
   "execution_count": 56,
   "metadata": {
    "pycharm": {
     "name": "#%%\n"
    }
   },
   "outputs": [],
   "source": [
    "path = 'https://getfile.dokpub.com/yandex/get/https://disk.yandex.ru/d/3aARY-P9pfaksg'"
   ]
  },
  {
   "cell_type": "code",
   "execution_count": 57,
   "metadata": {
    "pycharm": {
     "name": "#%%\n"
    }
   },
   "outputs": [
    {
     "name": "stdout",
     "output_type": "stream",
     "text": [
      "Новых данных не обнаружено\n"
     ]
    },
    {
     "data": {
      "text/plain": "  group  number_of_users  active_users  paying_users  conversion  min_rev  \\\n0     A            14693          1538            78        5.07    199.0   \n1     B            59883          6803           314        4.62    199.0   \n\n   max_rev  avg_rev  \n0   3660.0   933.59  \n1   4650.0  1257.88  ",
      "text/html": "<div>\n<style scoped>\n    .dataframe tbody tr th:only-of-type {\n        vertical-align: middle;\n    }\n\n    .dataframe tbody tr th {\n        vertical-align: top;\n    }\n\n    .dataframe thead th {\n        text-align: right;\n    }\n</style>\n<table border=\"1\" class=\"dataframe\">\n  <thead>\n    <tr style=\"text-align: right;\">\n      <th></th>\n      <th>group</th>\n      <th>number_of_users</th>\n      <th>active_users</th>\n      <th>paying_users</th>\n      <th>conversion</th>\n      <th>min_rev</th>\n      <th>max_rev</th>\n      <th>avg_rev</th>\n    </tr>\n  </thead>\n  <tbody>\n    <tr>\n      <th>0</th>\n      <td>A</td>\n      <td>14693</td>\n      <td>1538</td>\n      <td>78</td>\n      <td>5.07</td>\n      <td>199.0</td>\n      <td>3660.0</td>\n      <td>933.59</td>\n    </tr>\n    <tr>\n      <th>1</th>\n      <td>B</td>\n      <td>59883</td>\n      <td>6803</td>\n      <td>314</td>\n      <td>4.62</td>\n      <td>199.0</td>\n      <td>4650.0</td>\n      <td>1257.88</td>\n    </tr>\n  </tbody>\n</table>\n</div>"
     },
     "execution_count": 57,
     "metadata": {},
     "output_type": "execute_result"
    }
   ],
   "source": [
    "add_new_data(experiment, path)  # функция принимает на вход существущий датафрем и путь к group_add.csv"
   ]
  },
  {
   "cell_type": "markdown",
   "metadata": {
    "pycharm": {
     "name": "#%% md\n"
    }
   },
   "source": [
    "### Напишем функцию для вывод графиков по заданным данным"
   ]
  },
  {
   "cell_type": "code",
   "execution_count": 58,
   "metadata": {
    "pycharm": {
     "name": "#%%\n"
    }
   },
   "outputs": [],
   "source": [
    "def graphic(df):\n",
    "    metric_table = df.groupby('grp', as_index=False).agg({'id': 'count', 'active': 'sum'})\n",
    "    # вычислим количество пользователей и количество активных пользователей\n",
    "    metric_table['paying_users'] = list(df.query('active == True').groupby('grp').paying.sum())\n",
    "    # вычислим количество платящих пользователей\n",
    "    metric_table['conversion'] = list(round(df.query('active == True').groupby('grp').paying.mean() * 100, 2))\n",
    "    # вычислим конверсию\n",
    "    metric_table['avg_rev'] = list(round(df.query('paying == True and active == True').groupby('grp').rev.mean(), 2))\n",
    "    # вычислим среднее значение чеков у активных платящих клиентов\n",
    "    metric_table.rename(columns={'grp': 'group', 'id': 'number_of_users', 'active': 'active_users'}, inplace=True)\n",
    "    # назовем соответствующим образом колонки\n",
    "    # настроим графики\n",
    "    fig, axes = plt.subplots(2, 2, figsize=(15, 10))\n",
    "    sns.barplot(ax=axes[1, 1], x=metric_table.group, y=metric_table.conversion)\n",
    "    sns.barplot(ax=axes[0, 1], x=metric_table.group, y=metric_table.avg_rev)\n",
    "    sns.boxplot(ax=axes[1, 0], data=df.query('paying == True and active == True'), x='grp', y='rev')\n",
    "    sns.barplot(ax=axes[0, 0], x=metric_table.group, y=metric_table.number_of_users)"
   ]
  },
  {
   "cell_type": "code",
   "execution_count": 59,
   "metadata": {
    "pycharm": {
     "name": "#%%\n"
    }
   },
   "outputs": [
    {
     "data": {
      "text/plain": "<Figure size 1080x720 with 4 Axes>",
      "image/png": "[encoded data removed]"
     },
     "metadata": {},
     "output_type": "display_data"
    }
   ],
   "source": [
    "graphic(experiment)  # функция принимает на вход собранный датафрейм"
   ]
  },
  {
   "cell_type": "code",
   "execution_count": 59,
   "metadata": {
    "pycharm": {
     "name": "#%%\n"
    }
   },
   "outputs": [],
   "source": []
  }
 ],
 "metadata": {
  "kernelspec": {
   "display_name": "Python 3",
   "language": "python",
   "name": "python3"
  },
  "language_info": {
   "codemirror_mode": {
    "name": "ipython",
    "version": 3
   },
   "file_extension": ".py",
   "mimetype": "text/x-python",
   "name": "python",
   "nbconvert_exporter": "python",
   "pygments_lexer": "ipython3",
   "version": "3.7.3"
  }
 },
 "nbformat": 4,
 "nbformat_minor": 1
}