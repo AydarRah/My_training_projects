{
 "cells": [
  {
   "cell_type": "markdown",
   "source": [
    "#### Загрузим необходимые библиотеки"
   ],
   "metadata": {
    "collapsed": false,
    "pycharm": {
     "name": "#%% md\n"
    }
   }
  },
  {
   "cell_type": "code",
   "execution_count": 20,
   "outputs": [],
   "source": [
    "import numpy as np\n",
    "import pandas as pd\n",
    "from scipy import stats\n",
    "import matplotlib.pyplot as plt\n",
    "from tqdm.auto import tqdm\n",
    "\n",
    "from statsmodels.stats.proportion import proportions_ztest"
   ],
   "metadata": {
    "collapsed": false,
    "pycharm": {
     "name": "#%%\n"
    }
   }
  },
  {
   "cell_type": "markdown",
   "source": [
    "#### Загрузим данные и посмотрим на них"
   ],
   "metadata": {
    "collapsed": false,
    "pycharm": {
     "name": "#%% md\n"
    }
   }
  },
  {
   "cell_type": "code",
   "execution_count": 2,
   "outputs": [],
   "source": [
    "path = 'https://stepik.org/media/attachments/lesson/396012/hw_aa.csv'"
   ],
   "metadata": {
    "collapsed": false,
    "pycharm": {
     "name": "#%%\n"
    }
   }
  },
  {
   "cell_type": "code",
   "execution_count": 3,
   "outputs": [],
   "source": [
    "df = pd.read_csv(path, sep = ';', index_col = 0)"
   ],
   "metadata": {
    "collapsed": false,
    "pycharm": {
     "name": "#%%\n"
    }
   }
  },
  {
   "cell_type": "code",
   "execution_count": 5,
   "outputs": [
    {
     "name": "stdout",
     "output_type": "stream",
     "text": [
      "<class 'pandas.core.frame.DataFrame'>\n",
      "Int64Index: 127018 entries, 1 to 127018\n",
      "Data columns (total 4 columns):\n",
      " #   Column             Non-Null Count   Dtype \n",
      "---  ------             --------------   ----- \n",
      " 0   uid                127018 non-null  object\n",
      " 1   experimentVariant  127018 non-null  int64 \n",
      " 2   version            127018 non-null  object\n",
      " 3   purchase           127018 non-null  int64 \n",
      "dtypes: int64(2), object(2)\n",
      "memory usage: 4.8+ MB\n"
     ]
    }
   ],
   "source": [
    "df.info()"
   ],
   "metadata": {
    "collapsed": false,
    "pycharm": {
     "name": "#%%\n"
    }
   }
  },
  {
   "cell_type": "code",
   "execution_count": 8,
   "outputs": [
    {
     "data": {
      "text/plain": "experimentVariant\n0    63102\n1    63916\nName: purchase, dtype: int64"
     },
     "execution_count": 8,
     "metadata": {},
     "output_type": "execute_result"
    }
   ],
   "source": [
    "df.groupby('experimentVariant').purchase.count()"
   ],
   "metadata": {
    "collapsed": false,
    "pycharm": {
     "name": "#%%\n"
    }
   }
  },
  {
   "cell_type": "markdown",
   "source": [
    "Группы примерно равны по размерам"
   ],
   "metadata": {
    "collapsed": false,
    "pycharm": {
     "name": "#%% md\n"
    }
   }
  },
  {
   "cell_type": "code",
   "execution_count": 9,
   "outputs": [
    {
     "data": {
      "text/plain": "                            count\nexperimentVariant version        \n0                 v2.8.0    41283\n                  v2.9.0    11921\n                  v3.7.4.0   4204\n                  v3.8.0.0   5694\n1                 v2.8.0    41552\n                  v2.9.0    12033\n                  v3.7.4.0   4221\n                  v3.8.0.0   6110",
      "text/html": "<div>\n<style scoped>\n    .dataframe tbody tr th:only-of-type {\n        vertical-align: middle;\n    }\n\n    .dataframe tbody tr th {\n        vertical-align: top;\n    }\n\n    .dataframe thead th {\n        text-align: right;\n    }\n</style>\n<table border=\"1\" class=\"dataframe\">\n  <thead>\n    <tr style=\"text-align: right;\">\n      <th></th>\n      <th></th>\n      <th>count</th>\n    </tr>\n    <tr>\n      <th>experimentVariant</th>\n      <th>version</th>\n      <th></th>\n    </tr>\n  </thead>\n  <tbody>\n    <tr>\n      <th rowspan=\"4\" valign=\"top\">0</th>\n      <th>v2.8.0</th>\n      <td>41283</td>\n    </tr>\n    <tr>\n      <th>v2.9.0</th>\n      <td>11921</td>\n    </tr>\n    <tr>\n      <th>v3.7.4.0</th>\n      <td>4204</td>\n    </tr>\n    <tr>\n      <th>v3.8.0.0</th>\n      <td>5694</td>\n    </tr>\n    <tr>\n      <th rowspan=\"4\" valign=\"top\">1</th>\n      <th>v2.8.0</th>\n      <td>41552</td>\n    </tr>\n    <tr>\n      <th>v2.9.0</th>\n      <td>12033</td>\n    </tr>\n    <tr>\n      <th>v3.7.4.0</th>\n      <td>4221</td>\n    </tr>\n    <tr>\n      <th>v3.8.0.0</th>\n      <td>6110</td>\n    </tr>\n  </tbody>\n</table>\n</div>"
     },
     "execution_count": 9,
     "metadata": {},
     "output_type": "execute_result"
    }
   ],
   "source": [
    "df.groupby(['experimentVariant', 'version']).agg({'purchase' : 'count'}).rename(columns={'purchase': 'count'})"
   ],
   "metadata": {
    "collapsed": false,
    "pycharm": {
     "name": "#%%\n"
    }
   }
  },
  {
   "cell_type": "markdown",
   "source": [
    "Разделение в разрезе версий между группами практически одинаковое"
   ],
   "metadata": {
    "collapsed": false,
    "pycharm": {
     "name": "#%% md\n"
    }
   }
  },
  {
   "cell_type": "markdown",
   "source": [
    "#### Симулируем \"синтетические\" АА тесты"
   ],
   "metadata": {
    "collapsed": false,
    "pycharm": {
     "name": "#%% md\n"
    }
   }
  },
  {
   "cell_type": "markdown",
   "source": [
    "Расчитаем долю ложноположительных оценок (FPR) на уровне альфа 0.05.\n",
    "\n",
    "Расчитаем АА с синтетическими тестами (в данном случае используется ttest, так как среднее значений (0 и 1) колонки purchase ничто иное как конверсия):"
   ],
   "metadata": {
    "collapsed": false,
    "pycharm": {
     "name": "#%% md\n"
    }
   }
  },
  {
   "cell_type": "code",
   "execution_count": 12,
   "outputs": [
    {
     "data": {
      "text/plain": "  0%|          | 0/1000 [00:00<?, ?it/s]",
      "application/vnd.jupyter.widget-view+json": {
       "version_major": 2,
       "version_minor": 0,
       "model_id": "f7727bb1337940f7a61cb3ca5e0b54b6"
      }
     },
     "metadata": {},
     "output_type": "display_data"
    },
    {
     "data": {
      "text/plain": "<Figure size 432x288 with 1 Axes>",
      "image/png": "[encoded data removed]"
     },
     "metadata": {},
     "output_type": "display_data"
    },
    {
     "data": {
      "text/plain": "0.926"
     },
     "execution_count": 12,
     "metadata": {},
     "output_type": "execute_result"
    }
   ],
   "source": [
    "simulations = 1000 # количество симуляций\n",
    "n_s = 1000 #размер выборки\n",
    "res = []\n",
    "\n",
    "# Запуск симуляций A/A теста\n",
    "for i in tqdm(range(simulations)):\n",
    "    s1 = df[df.experimentVariant == 0].purchase.sample(n_s, replace = False).values\n",
    "    s2 = df[df.experimentVariant == 1].purchase.sample(n_s, replace = False).values\n",
    "    res.append(stats.ttest_ind(s1, s2, equal_var = False)[1]) # сохраняем pvalue\n",
    "\n",
    "plt.hist(res, bins = 50)\n",
    "plt.style.use('ggplot')\n",
    "plt.xlabel('pvalues')\n",
    "plt.ylabel('frequency')\n",
    "plt.title(\"Histogram of ttest A/A simulations\")\n",
    "plt.show()\n",
    "\n",
    "# Проверяем, что количество ложноположительных случаев не превышает альфа\n",
    "sum(np.array(res) <0.05) / simulations"
   ],
   "metadata": {
    "collapsed": false,
    "pycharm": {
     "name": "#%%\n"
    }
   }
  },
  {
   "cell_type": "markdown",
   "source": [
    "Доля ложноположительных оценок выше заданого уровня 0.05.\n",
    "\n",
    "Основные причины кроются в сломанном сплит-алгоритме. Причины необходимо искать на стороне, где реализован скрипт и его запуск. Частые кейсы:\n",
    "\n",
    "* Долгое ожидание ответа сервера по присвоению id эксперимента и сплита\n",
    "* Приоритет той или иной группе\n",
    "* Не на всех страницах или кейсах реализован сплит-алгоритм\n",
    "* Банально «сломан» рандом (например, неправильно посчитан остаток от деления по сумме хеша)\n",
    "\n",
    "Посмотрим конверсию по группам в разрезер версий:"
   ],
   "metadata": {
    "collapsed": false,
    "pycharm": {
     "name": "#%% md\n"
    }
   }
  },
  {
   "cell_type": "code",
   "execution_count": 13,
   "outputs": [
    {
     "data": {
      "text/plain": "                  conversion                              \nversion               v2.8.0    v2.9.0  v3.7.4.0  v3.8.0.0\nexperimentVariant                                         \n0                   0.000993  0.074658  0.059943  0.057604\n1                   0.045606  0.071304  0.063018  0.062848",
      "text/html": "<div>\n<style scoped>\n    .dataframe tbody tr th:only-of-type {\n        vertical-align: middle;\n    }\n\n    .dataframe tbody tr th {\n        vertical-align: top;\n    }\n\n    .dataframe thead tr th {\n        text-align: left;\n    }\n\n    .dataframe thead tr:last-of-type th {\n        text-align: right;\n    }\n</style>\n<table border=\"1\" class=\"dataframe\">\n  <thead>\n    <tr>\n      <th></th>\n      <th colspan=\"4\" halign=\"left\">conversion</th>\n    </tr>\n    <tr>\n      <th>version</th>\n      <th>v2.8.0</th>\n      <th>v2.9.0</th>\n      <th>v3.7.4.0</th>\n      <th>v3.8.0.0</th>\n    </tr>\n    <tr>\n      <th>experimentVariant</th>\n      <th></th>\n      <th></th>\n      <th></th>\n      <th></th>\n    </tr>\n  </thead>\n  <tbody>\n    <tr>\n      <th>0</th>\n      <td>0.000993</td>\n      <td>0.074658</td>\n      <td>0.059943</td>\n      <td>0.057604</td>\n    </tr>\n    <tr>\n      <th>1</th>\n      <td>0.045606</td>\n      <td>0.071304</td>\n      <td>0.063018</td>\n      <td>0.062848</td>\n    </tr>\n  </tbody>\n</table>\n</div>"
     },
     "execution_count": 13,
     "metadata": {},
     "output_type": "execute_result"
    }
   ],
   "source": [
    "df.groupby(['experimentVariant', 'version']).agg({'purchase' : 'mean'}).rename(columns={'purchase': 'conversion'}).unstack()"
   ],
   "metadata": {
    "collapsed": false,
    "pycharm": {
     "name": "#%%\n"
    }
   }
  },
  {
   "cell_type": "markdown",
   "source": [
    "Конверия в группе 0 v2.8.0 значительно отличается, похоже проблема именно в этой версии.\n",
    "\n",
    "Проверим каждую версию по отдельности при помощи ttest:\n",
    "\n",
    "**Нулевая гипотеза (H0)** между средними значениями в обоих группах нет различия\n",
    "**Альтернативная гипотеза (H1)** средние значения в обоих группах не равны\n",
    "Отвергать нулевую гипотезу будем при уровне p-value < 0.05"
   ],
   "metadata": {
    "collapsed": false,
    "pycharm": {
     "name": "#%% md\n"
    }
   }
  },
  {
   "cell_type": "code",
   "execution_count": 15,
   "outputs": [
    {
     "data": {
      "text/plain": "Ttest_indResult(statistic=-43.097051598551076, pvalue=0.0)"
     },
     "execution_count": 15,
     "metadata": {},
     "output_type": "execute_result"
    }
   ],
   "source": [
    "stats.ttest_ind(df.query(\"experimentVariant == 0 and version == 'v2.8.0'\").purchase,\n",
    "                df.query(\"experimentVariant == 1 and version == 'v2.8.0'\").purchase, equal_var=False)"
   ],
   "metadata": {
    "collapsed": false,
    "pycharm": {
     "name": "#%%\n"
    }
   }
  },
  {
   "cell_type": "code",
   "execution_count": 16,
   "outputs": [
    {
     "data": {
      "text/plain": "Ttest_indResult(statistic=0.997860971925487, pvalue=0.31835686930247525)"
     },
     "execution_count": 16,
     "metadata": {},
     "output_type": "execute_result"
    }
   ],
   "source": [
    "stats.ttest_ind(df.query(\"experimentVariant == 0 and version == 'v2.9.0'\").purchase,\n",
    "                df.query(\"experimentVariant == 1 and version == 'v2.9.0'\").purchase, equal_var=False)"
   ],
   "metadata": {
    "collapsed": false,
    "pycharm": {
     "name": "#%%\n"
    }
   }
  },
  {
   "cell_type": "code",
   "execution_count": 17,
   "outputs": [
    {
     "data": {
      "text/plain": "Ttest_indResult(statistic=-0.5875202960070302, pvalue=0.5568700784122844)"
     },
     "execution_count": 17,
     "metadata": {},
     "output_type": "execute_result"
    }
   ],
   "source": [
    "stats.ttest_ind(df.query(\"experimentVariant == 0 and version == 'v3.7.4.0'\").purchase, df.query(\"experimentVariant == 1 and version == 'v3.7.4.0'\").purchase, equal_var = False)"
   ],
   "metadata": {
    "collapsed": false,
    "pycharm": {
     "name": "#%%\n"
    }
   }
  },
  {
   "cell_type": "code",
   "execution_count": 18,
   "outputs": [
    {
     "data": {
      "text/plain": "Ttest_indResult(statistic=-1.1973368830477649, pvalue=0.2311993431794881)"
     },
     "execution_count": 18,
     "metadata": {},
     "output_type": "execute_result"
    }
   ],
   "source": [
    "stats.ttest_ind(df.query(\"experimentVariant == 0 and version == 'v3.8.0.0'\").purchase, df.query(\"experimentVariant == 1 and version == 'v3.8.0.0'\").purchase, equal_var = False)"
   ],
   "metadata": {
    "collapsed": false,
    "pycharm": {
     "name": "#%%\n"
    }
   }
  },
  {
   "cell_type": "markdown",
   "source": [
    "В случае с версией v.2.8.0 мы отвергаем нулевую гипотезу, что значит, что средние в группах стат. значимо отличаются.\n",
    "\n",
    "Снова расчитаем АА тест исключив версию v.2.8.0"
   ],
   "metadata": {
    "collapsed": false,
    "pycharm": {
     "name": "#%% md\n"
    }
   }
  },
  {
   "cell_type": "code",
   "execution_count": 19,
   "outputs": [
    {
     "data": {
      "text/plain": "  0%|          | 0/1000 [00:00<?, ?it/s]",
      "application/vnd.jupyter.widget-view+json": {
       "version_major": 2,
       "version_minor": 0,
       "model_id": "ecf07a97b3b744cab0c17687c93d544e"
      }
     },
     "metadata": {},
     "output_type": "display_data"
    },
    {
     "data": {
      "text/plain": "<Figure size 432x288 with 1 Axes>",
      "image/png": "[encoded data removed]"
     },
     "metadata": {},
     "output_type": "display_data"
    },
    {
     "data": {
      "text/plain": "0.044"
     },
     "execution_count": 19,
     "metadata": {},
     "output_type": "execute_result"
    }
   ],
   "source": [
    "simulations = 1000\n",
    "n_s = 1000\n",
    "res = []\n",
    "\n",
    "# Запуск симуляций A/A теста\n",
    "for i in tqdm(range(simulations)):\n",
    "    s1 = df.query(\"experimentVariant == 0 and version != 'v2.8.0'\").purchase.sample(n_s, replace = False).values\n",
    "    s2 = df.query(\"experimentVariant == 0 and version != 'v2.8.0'\").purchase.sample(n_s, replace = False).values\n",
    "    res.append(stats.ttest_ind(s1, s2, equal_var = False)[1]) # сохраняем pvalue\n",
    "\n",
    "plt.hist(res, bins = 50)\n",
    "plt.style.use('ggplot')\n",
    "plt.xlabel('pvalues')\n",
    "plt.ylabel('frequency')\n",
    "plt.title(\"Histogram of ttest A/A simulations\")\n",
    "plt.show()\n",
    "\n",
    "# Проверяем, что количество ложноположительных случаев не превышает альфа\n",
    "sum(np.array(res) <0.05) / simulations"
   ],
   "metadata": {
    "collapsed": false,
    "pycharm": {
     "name": "#%%\n"
    }
   }
  },
  {
   "cell_type": "markdown",
   "source": [
    "В данном случае доля ложноположительных оценок ниже установленного уровня альфа(0,05), следовательно поломка сплит системы выявлена - неправильно расплитованы данные для версии v2.8.0"
   ],
   "metadata": {
    "collapsed": false,
    "pycharm": {
     "name": "#%% md\n"
    }
   }
  }
 ],
 "metadata": {
  "kernelspec": {
   "display_name": "Python 3",
   "language": "python",
   "name": "python3"
  },
  "language_info": {
   "codemirror_mode": {
    "name": "ipython",
    "version": 2
   },
   "file_extension": ".py",
   "mimetype": "text/x-python",
   "name": "python",
   "nbconvert_exporter": "python",
   "pygments_lexer": "ipython2",
   "version": "2.7.6"
  }
 },
 "nbformat": 4,
 "nbformat_minor": 0
}