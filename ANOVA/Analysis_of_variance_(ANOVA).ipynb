{
 "cells": [
  {
   "cell_type": "markdown",
   "source": [
    "### Первый эксперимент\n",
    "\n",
    "В первом тестировали разрешение фотографий блюд в приложении: пользователям показывались либо прямоугольные, либо новые квадратные.\n",
    "Всего пользователям показывались три варианта:\n",
    "\n",
    "* A – прямоугольные 16:9\n",
    "* B – квадратные\n",
    "* C – прямоугольные 12:4\n",
    "\n",
    "Проверить гипотезы, сделать соответствующие выводы на основе статистических тестов и принять решения."
   ],
   "metadata": {
    "collapsed": false,
    "pycharm": {
     "name": "#%% md\n"
    }
   }
  },
  {
   "cell_type": "markdown",
   "source": [
    "#### Загрузим необходимые библиотеки"
   ],
   "metadata": {
    "collapsed": false
   }
  },
  {
   "cell_type": "code",
   "execution_count": 3,
   "outputs": [],
   "source": [
    "import pandas as pd\n",
    "from scipy import stats\n",
    "import scipy\n",
    "from statsmodels.stats.multicomp import (pairwise_tukeyhsd,\n",
    "                                         MultiComparison)\n",
    "import seaborn as sns\n",
    "import matplotlib.pyplot as plt\n",
    "from statsmodels.formula.api import ols\n",
    "from statsmodels.stats.anova import anova_lm"
   ],
   "metadata": {
    "collapsed": false,
    "pycharm": {
     "name": "#%%\n"
    }
   }
  },
  {
   "cell_type": "markdown",
   "source": [
    "#### Загрузим данные и посмотрим на них"
   ],
   "metadata": {
    "collapsed": false,
    "pycharm": {
     "name": "#%% md\n"
    }
   }
  },
  {
   "cell_type": "code",
   "execution_count": 4,
   "outputs": [],
   "source": [
    "path = 'https://getfile.dokpub.com/yandex/get/https://disk.yandex.ru/d/Lj5WClBbCt3fyw'"
   ],
   "metadata": {
    "collapsed": false,
    "pycharm": {
     "name": "#%%\n"
    }
   }
  },
  {
   "cell_type": "code",
   "execution_count": 5,
   "outputs": [],
   "source": [
    "photo = pd.read_csv(path)"
   ],
   "metadata": {
    "collapsed": false,
    "pycharm": {
     "name": "#%%\n"
    }
   }
  },
  {
   "cell_type": "code",
   "execution_count": 6,
   "outputs": [
    {
     "data": {
      "text/plain": "      id group  events\n0  16046     A      14\n1  18712     A      41\n2   3268     A      30\n3  22633     A      37\n4  28071     A      38",
      "text/html": "<div>\n<style scoped>\n    .dataframe tbody tr th:only-of-type {\n        vertical-align: middle;\n    }\n\n    .dataframe tbody tr th {\n        vertical-align: top;\n    }\n\n    .dataframe thead th {\n        text-align: right;\n    }\n</style>\n<table border=\"1\" class=\"dataframe\">\n  <thead>\n    <tr style=\"text-align: right;\">\n      <th></th>\n      <th>id</th>\n      <th>group</th>\n      <th>events</th>\n    </tr>\n  </thead>\n  <tbody>\n    <tr>\n      <th>0</th>\n      <td>16046</td>\n      <td>A</td>\n      <td>14</td>\n    </tr>\n    <tr>\n      <th>1</th>\n      <td>18712</td>\n      <td>A</td>\n      <td>41</td>\n    </tr>\n    <tr>\n      <th>2</th>\n      <td>3268</td>\n      <td>A</td>\n      <td>30</td>\n    </tr>\n    <tr>\n      <th>3</th>\n      <td>22633</td>\n      <td>A</td>\n      <td>37</td>\n    </tr>\n    <tr>\n      <th>4</th>\n      <td>28071</td>\n      <td>A</td>\n      <td>38</td>\n    </tr>\n  </tbody>\n</table>\n</div>"
     },
     "execution_count": 6,
     "metadata": {},
     "output_type": "execute_result"
    }
   ],
   "source": [
    "photo.head()"
   ],
   "metadata": {
    "collapsed": false,
    "pycharm": {
     "name": "#%%\n"
    }
   }
  },
  {
   "cell_type": "markdown",
   "source": [
    "#### Описание данных\n",
    "* **id** – id клиента в эксперименте\n",
    "* **group** – в каком разрешении показывались картинки (A – прямоугольные 16:9, B – квадратные, C – прямоугольные 12:4)\n",
    "* **events** – сколько блюд суммарно было заказано за период"
   ],
   "metadata": {
    "collapsed": false,
    "pycharm": {
     "name": "#%% md\n"
    }
   }
  },
  {
   "cell_type": "code",
   "execution_count": 7,
   "outputs": [
    {
     "name": "stdout",
     "output_type": "stream",
     "text": [
      "<class 'pandas.core.frame.DataFrame'>\n",
      "RangeIndex: 30000 entries, 0 to 29999\n",
      "Data columns (total 3 columns):\n",
      " #   Column  Non-Null Count  Dtype \n",
      "---  ------  --------------  ----- \n",
      " 0   id      30000 non-null  int64 \n",
      " 1   group   30000 non-null  object\n",
      " 2   events  30000 non-null  int64 \n",
      "dtypes: int64(2), object(1)\n",
      "memory usage: 703.2+ KB\n"
     ]
    }
   ],
   "source": [
    "photo.info()"
   ],
   "metadata": {
    "collapsed": false,
    "pycharm": {
     "name": "#%%\n"
    }
   }
  },
  {
   "cell_type": "markdown",
   "source": [
    "Количество наблюдений для каждого варианта фото:"
   ],
   "metadata": {
    "collapsed": false,
    "pycharm": {
     "name": "#%% md\n"
    }
   }
  },
  {
   "cell_type": "code",
   "execution_count": 8,
   "outputs": [
    {
     "data": {
      "text/plain": "C    10000\nA    10000\nB    10000\nName: group, dtype: int64"
     },
     "execution_count": 8,
     "metadata": {},
     "output_type": "execute_result"
    }
   ],
   "source": [
    "photo.group.value_counts()"
   ],
   "metadata": {
    "collapsed": false,
    "pycharm": {
     "name": "#%%\n"
    }
   }
  },
  {
   "cell_type": "markdown",
   "source": [
    "Посмотрим для какого варианта фото среднее количество заказов блюд больше:"
   ],
   "metadata": {
    "collapsed": false,
    "pycharm": {
     "name": "#%% md\n"
    }
   }
  },
  {
   "cell_type": "code",
   "execution_count": 9,
   "outputs": [
    {
     "data": {
      "text/plain": "group\nA    29.5796\nB    37.6136\nC    27.4703\nName: events, dtype: float64"
     },
     "execution_count": 9,
     "metadata": {},
     "output_type": "execute_result"
    }
   ],
   "source": [
    "photo.groupby('group').events.mean()"
   ],
   "metadata": {
    "collapsed": false,
    "pycharm": {
     "name": "#%%\n"
    }
   }
  },
  {
   "cell_type": "markdown",
   "source": [
    "Как мы видим, среднее количество покупок больше для варианта B (квадратные фото).\n",
    "Следует выяснить является ли это различие стат. значимым.\n",
    "\n",
    "В данном случае необходимо сравнить три выборочных средних (A, B, C) между собой\n",
    "\n",
    "Для этого используем однофакторный дисперсионный анализ ANOVA.\n",
    "\n",
    "Основые требования однофакторного ANOVA к данным:\n",
    "\n",
    "* Дисперсии внутри наших групп должны быть примерно одинаковы (требование гомогенности дисперсий). Проверить можно с помощью критерия Левена и критерия Бартлетта\n",
    "* Если объем выборки недостаточно большой (меньше 30), то важно соблюдать требование о нормальности распределения двух выборок.\n",
    "\n",
    "---\n",
    "Для начала проверим гомогенность дисперсий внутри групп с помощью критерия Левена.\n",
    "\n",
    "* **Нулевая гипотеза критерия (H0)** дисперсия в выборках гомогенна\n",
    "* **Альтернативная гипотеза (H1)** дисперсия в выборках не гомогенна\n",
    "\n",
    "Отвергать нулевую гипотезу будем при уровне p_value < 0.05"
   ],
   "metadata": {
    "collapsed": false,
    "pycharm": {
     "name": "#%% md\n"
    }
   }
  },
  {
   "cell_type": "code",
   "execution_count": 10,
   "outputs": [
    {
     "data": {
      "text/plain": "LeveneResult(statistic=2.2622596339318037, pvalue=0.1041327199523974)"
     },
     "execution_count": 10,
     "metadata": {},
     "output_type": "execute_result"
    }
   ],
   "source": [
    "scipy.stats.levene(photo[photo.group == 'A'].events, photo[photo.group == 'B'].events, photo[photo.group == 'C'].events)"
   ],
   "metadata": {
    "collapsed": false,
    "pycharm": {
     "name": "#%%\n"
    }
   }
  },
  {
   "cell_type": "markdown",
   "source": [
    "Полученный pvalue = 0.104 не позволят нам отвергнуть нулевую гипотезу, а значит дисперссии в выборках гомогенны.\n",
    "\n",
    "___\n",
    "\n",
    "Хоть в нашем случае выборки содержат достаточно много наблюдений тем не менее проверим нормальность распределений в каждой группе при помощи критерия Шапиро-Уилка (Shapiro–Wilk test). Так как этот критерий довольно чувствителен к размеру выборки (при больших выборках может давать неверные результаты) ограничим размеры исследуемых выборок 1000 наблюдений.\n",
    "\n",
    "* **Нулевая гипотеза (H0)** выборки получены из нормального распределения\n",
    "* **Альтернативная гипотеза (H1)** выборка получены не из нормального распределения\n",
    "\n",
    "Отвергать нулевую гипотезу будем при уровне p_value < 0.05\n"
   ],
   "metadata": {
    "collapsed": false,
    "pycharm": {
     "name": "#%% md\n"
    }
   }
  },
  {
   "cell_type": "code",
   "execution_count": 11,
   "outputs": [
    {
     "data": {
      "text/plain": "ShapiroResult(statistic=0.9973153471946716, pvalue=0.09609563648700714)"
     },
     "execution_count": 11,
     "metadata": {},
     "output_type": "execute_result"
    }
   ],
   "source": [
    "stats.shapiro(photo[photo.group == 'A'].events.sample(1000, random_state=17)) #здесь и далее для воспроизводимости результата используйте параметр random_state=17 в методе sample"
   ],
   "metadata": {
    "collapsed": false,
    "pycharm": {
     "name": "#%%\n"
    }
   }
  },
  {
   "cell_type": "code",
   "execution_count": 12,
   "outputs": [
    {
     "data": {
      "text/plain": "ShapiroResult(statistic=0.9980798363685608, pvalue=0.31768906116485596)"
     },
     "execution_count": 12,
     "metadata": {},
     "output_type": "execute_result"
    }
   ],
   "source": [
    "stats.shapiro(photo[photo.group == 'B'].events.sample(1000, random_state=17))"
   ],
   "metadata": {
    "collapsed": false,
    "pycharm": {
     "name": "#%%\n"
    }
   }
  },
  {
   "cell_type": "code",
   "execution_count": 13,
   "outputs": [
    {
     "data": {
      "text/plain": "ShapiroResult(statistic=0.9981185793876648, pvalue=0.3359004259109497)"
     },
     "execution_count": 13,
     "metadata": {},
     "output_type": "execute_result"
    }
   ],
   "source": [
    "stats.shapiro(photo[photo.group == 'C'].events.sample(1000, random_state=17))"
   ],
   "metadata": {
    "collapsed": false,
    "pycharm": {
     "name": "#%%\n"
    }
   }
  },
  {
   "cell_type": "markdown",
   "source": [
    "Для всех трех групп полученные pvalue > 0.05 не позволяют отвергнуть нулевую гипотезу. А значит распределения во всех трех грппах можно считать нормальными.\n",
    "___\n",
    "Проведем непосредственно тест ANOVA\n",
    "\n",
    "* **Нулевая гипотеза критерия (H0)** между средними в выборках нет различий\n",
    "* **Альтернативная гипотеза (H1)** не все средние в выборках равны\n",
    "\n",
    "Отвергать нулевую гипотезу будем при уровне p_value < 0.05\n"
   ],
   "metadata": {
    "collapsed": false,
    "pycharm": {
     "name": "#%% md\n"
    }
   }
  },
  {
   "cell_type": "code",
   "execution_count": 14,
   "outputs": [
    {
     "data": {
      "text/plain": "F_onewayResult(statistic=2886.166657438961, pvalue=0.0)"
     },
     "execution_count": 14,
     "metadata": {},
     "output_type": "execute_result"
    }
   ],
   "source": [
    "stats.f_oneway(photo[photo.group == 'A'].events,\n",
    "               photo[photo.group == 'B'].events,\n",
    "               photo[photo.group == 'C'].events)"
   ],
   "metadata": {
    "collapsed": false,
    "pycharm": {
     "name": "#%%\n"
    }
   }
  },
  {
   "cell_type": "markdown",
   "source": [
    "Тест показал что существуют стат. значимые различия между средними в группах. Однако, тест не позволяет определить мужду какими именно группами существуют различия.\n",
    "Для того чтобы определить между какими именно группами существуют стат. значимые различия используем критерий Тьюки, который сравнивает выборки попарно между собой\n",
    "\n",
    "* **Нулевая гипотеза критерия (H0)** между средними в выборках нет различий\n",
    "* **Альтернативная гипотеза (H1)** средние в выборках стат. значимо различаются"
   ],
   "metadata": {
    "collapsed": false,
    "pycharm": {
     "name": "#%% md\n"
    }
   }
  },
  {
   "cell_type": "code",
   "execution_count": 15,
   "outputs": [
    {
     "name": "stdout",
     "output_type": "stream",
     "text": [
      "Multiple Comparison of Means - Tukey HSD, FWER=0.05 \n",
      "====================================================\n",
      "group1 group2 meandiff p-adj  lower    upper  reject\n",
      "----------------------------------------------------\n",
      "     A      B    8.034 0.001   7.7038  8.3642   True\n",
      "     A      C  -2.1093 0.001  -2.4395 -1.7791   True\n",
      "     B      C -10.1433 0.001 -10.4735 -9.8131   True\n",
      "----------------------------------------------------\n"
     ]
    }
   ],
   "source": [
    "MultiComp = MultiComparison(photo.events, photo.group)\n",
    "print(MultiComp.tukeyhsd().summary())"
   ],
   "metadata": {
    "collapsed": false,
    "pycharm": {
     "name": "#%%\n"
    }
   }
  },
  {
   "cell_type": "markdown",
   "source": [
    "Критерий Тьюки показал что существуют стат. значимые различия между всеми группами (A и B, A и C, B и C) (отвергается нулевая гипотеза). Наибольшее среднее в группе B.\n",
    "**Значит следует использовать квадратные фотографии.**"
   ],
   "metadata": {
    "collapsed": false,
    "pycharm": {
     "name": "#%% md\n"
    }
   }
  },
  {
   "cell_type": "markdown",
   "source": [
    "### Второй эксперимент\n",
    "\n",
    "Во втором эксперименте требуется проверить, как пользователи отреагируют на изменение формата кнопки оформления заказа, с разбивкой по сегменту клиента.\n",
    "\n",
    "Проверить гипотезы, сделать соответствующие выводы на основе статистических тестов и принять решения."
   ],
   "metadata": {
    "collapsed": false,
    "pycharm": {
     "name": "#%% md\n"
    }
   }
  },
  {
   "cell_type": "markdown",
   "source": [
    "#### Загрузим данные и посмотрим на них"
   ],
   "metadata": {
    "collapsed": false,
    "pycharm": {
     "name": "#%% md\n"
    }
   }
  },
  {
   "cell_type": "markdown",
   "source": [],
   "metadata": {
    "collapsed": false
   }
  },
  {
   "cell_type": "code",
   "execution_count": 16,
   "outputs": [],
   "source": [
    "path2 = 'https://getfile.dokpub.com/yandex/get/https://disk.yandex.ru/d/Vnlvg9uOrMVKhw'"
   ],
   "metadata": {
    "collapsed": false,
    "pycharm": {
     "name": "#%%\n"
    }
   }
  },
  {
   "cell_type": "code",
   "execution_count": 17,
   "outputs": [],
   "source": [
    "button = pd.read_csv(path2)"
   ],
   "metadata": {
    "collapsed": false,
    "pycharm": {
     "name": "#%%\n"
    }
   }
  },
  {
   "cell_type": "code",
   "execution_count": 18,
   "outputs": [
    {
     "data": {
      "text/plain": "      id group segment  events\n0  83440  test    high    78.0\n1  96723  test    high    71.0\n2  68719  test    high    80.0\n3  50399  test    high    80.0\n4  95613  test    high    78.0",
      "text/html": "<div>\n<style scoped>\n    .dataframe tbody tr th:only-of-type {\n        vertical-align: middle;\n    }\n\n    .dataframe tbody tr th {\n        vertical-align: top;\n    }\n\n    .dataframe thead th {\n        text-align: right;\n    }\n</style>\n<table border=\"1\" class=\"dataframe\">\n  <thead>\n    <tr style=\"text-align: right;\">\n      <th></th>\n      <th>id</th>\n      <th>group</th>\n      <th>segment</th>\n      <th>events</th>\n    </tr>\n  </thead>\n  <tbody>\n    <tr>\n      <th>0</th>\n      <td>83440</td>\n      <td>test</td>\n      <td>high</td>\n      <td>78.0</td>\n    </tr>\n    <tr>\n      <th>1</th>\n      <td>96723</td>\n      <td>test</td>\n      <td>high</td>\n      <td>71.0</td>\n    </tr>\n    <tr>\n      <th>2</th>\n      <td>68719</td>\n      <td>test</td>\n      <td>high</td>\n      <td>80.0</td>\n    </tr>\n    <tr>\n      <th>3</th>\n      <td>50399</td>\n      <td>test</td>\n      <td>high</td>\n      <td>80.0</td>\n    </tr>\n    <tr>\n      <th>4</th>\n      <td>95613</td>\n      <td>test</td>\n      <td>high</td>\n      <td>78.0</td>\n    </tr>\n  </tbody>\n</table>\n</div>"
     },
     "execution_count": 18,
     "metadata": {},
     "output_type": "execute_result"
    }
   ],
   "source": [
    "button.head()"
   ],
   "metadata": {
    "collapsed": false,
    "pycharm": {
     "name": "#%%\n"
    }
   }
  },
  {
   "cell_type": "markdown",
   "source": [
    "#### Описание данных\n",
    "\n",
    "* **d** – id клиента в эксперименте\n",
    "* **segment** – сегмент (high/low)\n",
    "* **group** – вид кнопки (control – старая версия, test – новая версия)\n",
    "* **events** – сколько блюд суммарно было заказано за период"
   ],
   "metadata": {
    "collapsed": false,
    "pycharm": {
     "name": "#%% md\n"
    }
   }
  },
  {
   "cell_type": "code",
   "execution_count": 19,
   "outputs": [
    {
     "name": "stdout",
     "output_type": "stream",
     "text": [
      "<class 'pandas.core.frame.DataFrame'>\n",
      "RangeIndex: 100000 entries, 0 to 99999\n",
      "Data columns (total 4 columns):\n",
      " #   Column   Non-Null Count   Dtype  \n",
      "---  ------   --------------   -----  \n",
      " 0   id       100000 non-null  int64  \n",
      " 1   group    100000 non-null  object \n",
      " 2   segment  100000 non-null  object \n",
      " 3   events   100000 non-null  float64\n",
      "dtypes: float64(1), int64(1), object(2)\n",
      "memory usage: 3.1+ MB\n"
     ]
    }
   ],
   "source": [
    "button.info()"
   ],
   "metadata": {
    "collapsed": false,
    "pycharm": {
     "name": "#%%\n"
    }
   }
  },
  {
   "cell_type": "markdown",
   "source": [
    "Распредление наблюдений по segment и group:"
   ],
   "metadata": {
    "collapsed": false,
    "pycharm": {
     "name": "#%% md\n"
    }
   }
  },
  {
   "cell_type": "code",
   "execution_count": 20,
   "outputs": [
    {
     "data": {
      "text/plain": "low     80000\nhigh    20000\nName: segment, dtype: int64"
     },
     "execution_count": 20,
     "metadata": {},
     "output_type": "execute_result"
    }
   ],
   "source": [
    "button.segment.value_counts()"
   ],
   "metadata": {
    "collapsed": false,
    "pycharm": {
     "name": "#%%\n"
    }
   }
  },
  {
   "cell_type": "code",
   "execution_count": 21,
   "outputs": [
    {
     "data": {
      "text/plain": "test       50000\ncontrol    50000\nName: group, dtype: int64"
     },
     "execution_count": 21,
     "metadata": {},
     "output_type": "execute_result"
    }
   ],
   "source": [
    "button.group.value_counts()"
   ],
   "metadata": {
    "collapsed": false,
    "pycharm": {
     "name": "#%%\n"
    }
   }
  },
  {
   "cell_type": "markdown",
   "source": [
    "#### Визуализируем распределение event для контрольной и тестовой группы"
   ],
   "metadata": {
    "collapsed": false,
    "pycharm": {
     "name": "#%% md\n"
    }
   }
  },
  {
   "cell_type": "code",
   "execution_count": 23,
   "outputs": [],
   "source": [
    "sns.set(\n",
    "    font_scale=2,\n",
    "    style=\"whitegrid\",\n",
    "    rc={'figure.figsize':(20,7)}\n",
    ") # настрока стиля и размеров графика"
   ],
   "metadata": {
    "collapsed": false,
    "pycharm": {
     "name": "#%%\n"
    }
   }
  },
  {
   "cell_type": "code",
   "execution_count": 29,
   "outputs": [
    {
     "name": "stderr",
     "output_type": "stream",
     "text": [
      "C:\\Users\\mexan\\anaconda3\\lib\\site-packages\\seaborn\\distributions.py:2557: FutureWarning: `distplot` is a deprecated function and will be removed in a future version. Please adapt your code to use either `displot` (a figure-level function with similar flexibility) or `histplot` (an axes-level function for histograms).\n",
      "  warnings.warn(msg, FutureWarning)\n"
     ]
    },
    {
     "data": {
      "text/plain": "<matplotlib.legend.Legend at 0x1d4f2c96a30>"
     },
     "execution_count": 29,
     "metadata": {},
     "output_type": "execute_result"
    },
    {
     "data": {
      "text/plain": "<Figure size 1440x504 with 1 Axes>",
      "image/png": "[encoded data removed]"
     },
     "metadata": {},
     "output_type": "display_data"
    }
   ],
   "source": [
    "sns.distplot(button[button.group=='test'].events, kde = False)\n",
    "sns.distplot(button[button.group=='control'].events, kde = False)\n",
    "plt.legend(['test', 'control'])"
   ],
   "metadata": {
    "collapsed": false,
    "pycharm": {
     "name": "#%%\n"
    }
   }
  },
  {
   "cell_type": "markdown",
   "source": [
    "#### Расчитаем основные показатели events (среднее, медиану и стандартное отклонение) в разрезе групп и сегмантов"
   ],
   "metadata": {
    "collapsed": false,
    "pycharm": {
     "name": "#%% md\n"
    }
   }
  },
  {
   "cell_type": "code",
   "execution_count": 33,
   "outputs": [
    {
     "data": {
      "text/plain": "                    events                 \n                      mean median       std\ngroup   segment                            \ncontrol high     59.970800   60.0  7.805347\n        low      20.031575   20.0  4.473576\ntest    high     69.938500   70.0  8.403974\n        low      33.025925   33.0  5.720845",
      "text/html": "<div>\n<style scoped>\n    .dataframe tbody tr th:only-of-type {\n        vertical-align: middle;\n    }\n\n    .dataframe tbody tr th {\n        vertical-align: top;\n    }\n\n    .dataframe thead tr th {\n        text-align: left;\n    }\n\n    .dataframe thead tr:last-of-type th {\n        text-align: right;\n    }\n</style>\n<table border=\"1\" class=\"dataframe\">\n  <thead>\n    <tr>\n      <th></th>\n      <th></th>\n      <th colspan=\"3\" halign=\"left\">events</th>\n    </tr>\n    <tr>\n      <th></th>\n      <th></th>\n      <th>mean</th>\n      <th>median</th>\n      <th>std</th>\n    </tr>\n    <tr>\n      <th>group</th>\n      <th>segment</th>\n      <th></th>\n      <th></th>\n      <th></th>\n    </tr>\n  </thead>\n  <tbody>\n    <tr>\n      <th rowspan=\"2\" valign=\"top\">control</th>\n      <th>high</th>\n      <td>59.970800</td>\n      <td>60.0</td>\n      <td>7.805347</td>\n    </tr>\n    <tr>\n      <th>low</th>\n      <td>20.031575</td>\n      <td>20.0</td>\n      <td>4.473576</td>\n    </tr>\n    <tr>\n      <th rowspan=\"2\" valign=\"top\">test</th>\n      <th>high</th>\n      <td>69.938500</td>\n      <td>70.0</td>\n      <td>8.403974</td>\n    </tr>\n    <tr>\n      <th>low</th>\n      <td>33.025925</td>\n      <td>33.0</td>\n      <td>5.720845</td>\n    </tr>\n  </tbody>\n</table>\n</div>"
     },
     "execution_count": 33,
     "metadata": {},
     "output_type": "execute_result"
    }
   ],
   "source": [
    "button.groupby(['group', 'segment']).agg({'events': ['mean', 'median', 'std']})"
   ],
   "metadata": {
    "collapsed": false,
    "pycharm": {
     "name": "#%%\n"
    }
   }
  },
  {
   "cell_type": "markdown",
   "source": [
    "Все показатели events отличаются в большую сторону в тестовой группе. Определим является ли это различие стат. значимым.\n",
    "___\n",
    "\n",
    "В данном эскперементе предстоит проверить действие 2 номинативных переменных (group и segment) на одну зависимую переменную (events), для этого следует использовать многофакторный дисперсионный анализ ANOVA.\n",
    "\n",
    "Выберем формулу для модели:\n",
    "\n",
    "***events ~ segment + group + segment:group*** (действие на зависимую переменную отдельно первой номинативной переменной + действие на зависимую переменную отдельно второй номинативной переменной + их совместное действие)\n",
    "\n"
   ],
   "metadata": {
    "collapsed": false,
    "pycharm": {
     "name": "#%% md\n"
    }
   }
  },
  {
   "cell_type": "code",
   "execution_count": 51,
   "outputs": [],
   "source": [
    "formula = 'events ~ segment + group + segment:group'"
   ],
   "metadata": {
    "collapsed": false,
    "pycharm": {
     "name": "#%%\n"
    }
   }
  },
  {
   "cell_type": "code",
   "execution_count": 53,
   "outputs": [],
   "source": [
    "model = ols(formula, button).fit()\n",
    "aov_table = anova_lm(model, typ=2)"
   ],
   "metadata": {
    "collapsed": false,
    "pycharm": {
     "name": "#%%\n"
    }
   }
  },
  {
   "cell_type": "code",
   "execution_count": 54,
   "outputs": [
    {
     "data": {
      "text/plain": "                     sum_sq       df              F         PR(>F)\nsegment        2.362480e+07      1.0  689756.377485   0.000000e+00\ngroup          3.837195e+06      1.0  112031.864120   0.000000e+00\nsegment:group  3.664244e+04      1.0    1069.823273  2.060261e-233\nResidual       3.424956e+06  99996.0            NaN            NaN",
      "text/html": "<div>\n<style scoped>\n    .dataframe tbody tr th:only-of-type {\n        vertical-align: middle;\n    }\n\n    .dataframe tbody tr th {\n        vertical-align: top;\n    }\n\n    .dataframe thead th {\n        text-align: right;\n    }\n</style>\n<table border=\"1\" class=\"dataframe\">\n  <thead>\n    <tr style=\"text-align: right;\">\n      <th></th>\n      <th>sum_sq</th>\n      <th>df</th>\n      <th>F</th>\n      <th>PR(&gt;F)</th>\n    </tr>\n  </thead>\n  <tbody>\n    <tr>\n      <th>segment</th>\n      <td>2.362480e+07</td>\n      <td>1.0</td>\n      <td>689756.377485</td>\n      <td>0.000000e+00</td>\n    </tr>\n    <tr>\n      <th>group</th>\n      <td>3.837195e+06</td>\n      <td>1.0</td>\n      <td>112031.864120</td>\n      <td>0.000000e+00</td>\n    </tr>\n    <tr>\n      <th>segment:group</th>\n      <td>3.664244e+04</td>\n      <td>1.0</td>\n      <td>1069.823273</td>\n      <td>2.060261e-233</td>\n    </tr>\n    <tr>\n      <th>Residual</th>\n      <td>3.424956e+06</td>\n      <td>99996.0</td>\n      <td>NaN</td>\n      <td>NaN</td>\n    </tr>\n  </tbody>\n</table>\n</div>"
     },
     "execution_count": 54,
     "metadata": {},
     "output_type": "execute_result"
    }
   ],
   "source": [
    "aov_table"
   ],
   "metadata": {
    "collapsed": false,
    "pycharm": {
     "name": "#%%\n"
    }
   }
  },
  {
   "cell_type": "markdown",
   "source": [
    "Как видно по последней колонке, значим как эффект обоих факторов, так и их взаимодействие.\n",
    "___\n",
    "Используя критерий Тьюки определим между какими гуппами есть статитически значимые различия.\n",
    "Но сначала добавим к датафрейму колонку в которую поместим соответствующие комбинации qroup и segment, чтобы потом передать в аргумент groups MultiComparisom"
   ],
   "metadata": {
    "collapsed": false,
    "pycharm": {
     "name": "#%% md\n"
    }
   }
  },
  {
   "cell_type": "code",
   "execution_count": 55,
   "outputs": [],
   "source": [
    "button['combination'] = button['group']+'/'+button['segment']"
   ],
   "metadata": {
    "collapsed": false,
    "pycharm": {
     "name": "#%%\n"
    }
   }
  },
  {
   "cell_type": "code",
   "execution_count": 56,
   "outputs": [
    {
     "data": {
      "text/plain": "      id group segment  events combination\n0  83440  test    high    78.0   test/high\n1  96723  test    high    71.0   test/high\n2  68719  test    high    80.0   test/high\n3  50399  test    high    80.0   test/high\n4  95613  test    high    78.0   test/high",
      "text/html": "<div>\n<style scoped>\n    .dataframe tbody tr th:only-of-type {\n        vertical-align: middle;\n    }\n\n    .dataframe tbody tr th {\n        vertical-align: top;\n    }\n\n    .dataframe thead th {\n        text-align: right;\n    }\n</style>\n<table border=\"1\" class=\"dataframe\">\n  <thead>\n    <tr style=\"text-align: right;\">\n      <th></th>\n      <th>id</th>\n      <th>group</th>\n      <th>segment</th>\n      <th>events</th>\n      <th>combination</th>\n    </tr>\n  </thead>\n  <tbody>\n    <tr>\n      <th>0</th>\n      <td>83440</td>\n      <td>test</td>\n      <td>high</td>\n      <td>78.0</td>\n      <td>test/high</td>\n    </tr>\n    <tr>\n      <th>1</th>\n      <td>96723</td>\n      <td>test</td>\n      <td>high</td>\n      <td>71.0</td>\n      <td>test/high</td>\n    </tr>\n    <tr>\n      <th>2</th>\n      <td>68719</td>\n      <td>test</td>\n      <td>high</td>\n      <td>80.0</td>\n      <td>test/high</td>\n    </tr>\n    <tr>\n      <th>3</th>\n      <td>50399</td>\n      <td>test</td>\n      <td>high</td>\n      <td>80.0</td>\n      <td>test/high</td>\n    </tr>\n    <tr>\n      <th>4</th>\n      <td>95613</td>\n      <td>test</td>\n      <td>high</td>\n      <td>78.0</td>\n      <td>test/high</td>\n    </tr>\n  </tbody>\n</table>\n</div>"
     },
     "execution_count": 56,
     "metadata": {},
     "output_type": "execute_result"
    }
   ],
   "source": [
    "button.head()"
   ],
   "metadata": {
    "collapsed": false,
    "pycharm": {
     "name": "#%%\n"
    }
   }
  },
  {
   "cell_type": "markdown",
   "source": [
    "Используем критерий Тьюки:"
   ],
   "metadata": {
    "collapsed": false,
    "pycharm": {
     "name": "#%% md\n"
    }
   }
  },
  {
   "cell_type": "code",
   "execution_count": 57,
   "outputs": [
    {
     "name": "stdout",
     "output_type": "stream",
     "text": [
      "      Multiple Comparison of Means - Tukey HSD, FWER=0.05       \n",
      "================================================================\n",
      "   group1       group2   meandiff p-adj  lower    upper   reject\n",
      "----------------------------------------------------------------\n",
      "control/high control/low -39.9392 0.001 -40.1073 -39.7711   True\n",
      "control/high   test/high   9.9677 0.001   9.7551  10.1803   True\n",
      "control/high    test/low -26.9449 0.001  -27.113 -26.7768   True\n",
      " control/low   test/high  49.9069 0.001  49.7388   50.075   True\n",
      " control/low    test/low  12.9944 0.001   12.888  13.1007   True\n",
      "   test/high    test/low -36.9126 0.001 -37.0807 -36.7445   True\n",
      "----------------------------------------------------------------\n"
     ]
    }
   ],
   "source": [
    "MultiComp = MultiComparison(button.events, button.combination)\n",
    "print(MultiComp.tukeyhsd().summary())"
   ],
   "metadata": {
    "collapsed": false,
    "pycharm": {
     "name": "#%%\n"
    }
   }
  },
  {
   "cell_type": "markdown",
   "source": [
    "Для обоих сегментов показатели статистически значимо увеличились по сравнению с контрольной группой\n",
    "\n",
    "Разница между control/high и test/high составила около 10\n",
    "\n",
    "Разница между значением у тестовой группы сегмента low и контрольной группой этого же сегмента равна примерно 13\n",
    "\n",
    "___\n",
    "\n",
    "#### Визуализируем результаты теста."
   ],
   "metadata": {
    "collapsed": false,
    "pycharm": {
     "name": "#%% md\n"
    }
   }
  },
  {
   "cell_type": "code",
   "execution_count": 58,
   "outputs": [
    {
     "data": {
      "text/plain": "<AxesSubplot:xlabel='segment', ylabel='events'>"
     },
     "execution_count": 58,
     "metadata": {},
     "output_type": "execute_result"
    },
    {
     "data": {
      "text/plain": "<Figure size 1440x504 with 1 Axes>",
      "image/png": "[encoded data removed]"
     },
     "metadata": {},
     "output_type": "display_data"
    }
   ],
   "source": [
    "sns.pointplot(x = 'segment', y = 'events', hue = 'group', data = button, capsize = 0.2)"
   ],
   "metadata": {
    "collapsed": false,
    "pycharm": {
     "name": "#%%\n"
    }
   }
  },
  {
   "cell_type": "markdown",
   "source": [
    "Факторы qroup, segment, а также их взаимодействие оказались значимы. Судя по графку для всех сегментов среднее значение events увеличилось. Поэтому следует ***выкатить новую версию***\n"
   ],
   "metadata": {
    "collapsed": false,
    "pycharm": {
     "name": "#%% md\n"
    }
   }
  }
 ],
 "metadata": {
  "kernelspec": {
   "display_name": "Python 3",
   "language": "python",
   "name": "python3"
  },
  "language_info": {
   "codemirror_mode": {
    "name": "ipython",
    "version": 2
   },
   "file_extension": ".py",
   "mimetype": "text/x-python",
   "name": "python",
   "nbconvert_exporter": "python",
   "pygments_lexer": "ipython2",
   "version": "2.7.6"
  }
 },
 "nbformat": 4,
 "nbformat_minor": 0
}